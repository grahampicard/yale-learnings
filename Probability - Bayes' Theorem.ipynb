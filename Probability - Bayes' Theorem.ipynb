{
 "cells": [
  {
   "cell_type": "markdown",
   "metadata": {},
   "source": [
    "# Bayes' Theorem"
   ]
  },
  {
   "cell_type": "markdown",
   "metadata": {},
   "source": [
    "## Intuition\n",
    "The intuition behind Bayes' theorem is really just proportions. Let's think of it conceptually first. We will have two things we'll consider: Hypothesis (H) and Evidence (E).\n",
    "\n",
    "Bayes' theorem is a way to estimate how likely an outcome is based on specific probabilities. So let's look at our first example: MBA admissions. To get in, you must get interviewed. \n",
    "\n",
    "Let's say we know that we have a $10%$ chance of getting accepted into a given program. We know that only half of people get interviewed. If we receive an interview, we know that we have a higher chance of getting into the program.\n",
    "\n",
    "Looking at a table, it's very easy to intuit the answer.\n",
    "\n",
    "|                | Not Interviewed | Interviewed | Total   |\n",
    "| -------------- |:---------------:|:-----------:|:-------:|\n",
    "| Not Accepted   | 0.5             | 0.4         | **0.9** |\n",
    "| Acceptance     | 0.0             | 0.1         | **0.1** |\n",
    "| **Total**      | **0.5**         | **0.5**     | **1**   |\n",
    "\n",
    "We know that our likelihood of getting an interview is $0.5$, so our likelihood of getting in would be $0.1$. We could think of it as follows:\n",
    "\n",
    "$$\n",
    "\\textrm{Likelihood of admittance given an interview} = \\frac{ \\textrm{Proportion who get in and get an interview} } { \\textrm{Cases when people got an interview} }\n",
    "$$\n",
    "\n",
    "Now, the interesting thing is that this amount is the same as those who \n",
    "\n",
    "## Explanation\n",
    "$$\n",
    "\\textrm{How often H is true when E is true } = \\frac{ \\textrm{Proportion when H is also true} } { \\textrm{Cases when E is true}}\n",
    "$$\n"
   ]
  },
  {
   "cell_type": "code",
   "execution_count": null,
   "metadata": {},
   "outputs": [],
   "source": [
    "p a | i = p i | a * p a / p i"
   ]
  },
  {
   "cell_type": "code",
   "execution_count": 2,
   "metadata": {},
   "outputs": [],
   "source": [
    "p_a = 0.1\n",
    "p_a_i = 0.1\n",
    "p_i_a = 1"
   ]
  },
  {
   "cell_type": "code",
   "execution_count": 4,
   "metadata": {},
   "outputs": [
    {
     "data": {
      "text/plain": [
       "1.0"
      ]
     },
     "execution_count": 4,
     "metadata": {},
     "output_type": "execute_result"
    }
   ],
   "source": [
    " 0.1 * 1 / 0.1"
   ]
  }
 ],
 "metadata": {
  "kernelspec": {
   "display_name": "Python 3",
   "language": "python",
   "name": "python3"
  },
  "language_info": {
   "codemirror_mode": {
    "name": "ipython",
    "version": 3
   },
   "file_extension": ".py",
   "mimetype": "text/x-python",
   "name": "python",
   "nbconvert_exporter": "python",
   "pygments_lexer": "ipython3",
   "version": "3.7.3"
  }
 },
 "nbformat": 4,
 "nbformat_minor": 2
}
