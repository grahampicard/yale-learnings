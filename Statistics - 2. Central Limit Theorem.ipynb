{
 "cells": [
  {
   "cell_type": "markdown",
   "metadata": {},
   "source": [
    "# Central Limit Theorem\n",
    "## Intuition\n",
    "Let's assume that we have some randomly distributed variables. These could be salary, temperature, snowfall, height, dice rolls, etc. \n",
    "\n",
    "Some of these are normally distributed, like height. However, many of these like snowfall are not normally distributed. What's the key concept behind the CLT is no matter the distribution, if we randomly sample data, the distribution of those samples will form a normal distribution. \n",
    "\n",
    "The key finding of this is that we can now compare averages of different groups to one another. This is because the estimates of the mean will tend toward each other"
   ]
  },
  {
   "cell_type": "markdown",
   "metadata": {},
   "source": [
    "## Example"
   ]
  },
  {
   "cell_type": "markdown",
   "metadata": {},
   "source": [
    "### Setup"
   ]
  },
  {
   "cell_type": "code",
   "execution_count": 1,
   "metadata": {},
   "outputs": [],
   "source": [
    "import matplotlib.pyplot as plt\n",
    "import scipy as sp\n",
    "import seaborn as sns\n",
    "sns.set_style('white')"
   ]
  },
  {
   "cell_type": "markdown",
   "metadata": {},
   "source": [
    "### Distributions\n",
    "Let's generate some random samples with various distributions"
   ]
  },
  {
   "cell_type": "code",
   "execution_count": 2,
   "metadata": {},
   "outputs": [],
   "source": [
    "sp.random.seed(30)\n",
    "\n",
    "poisson_array = sp.random.poisson(size=1000)\n",
    "uniform_array = sp.random.randint(0, 5, size=1000)\n",
    "normal_array  = sp.random.normal(loc=2, scale=1, size=1000)"
   ]
  },
  {
   "cell_type": "markdown",
   "metadata": {},
   "source": [
    "We can visualize them to verify they are all distributed differently"
   ]
  },
  {
   "cell_type": "code",
   "execution_count": 3,
   "metadata": {},
   "outputs": [
    {
     "data": {
      "image/png": "[encoded data removed]",
      "text/plain": [
       "<Figure size 1008x288 with 3 Axes>"
      ]
     },
     "metadata": {
      "needs_background": "light"
     },
     "output_type": "display_data"
    }
   ],
   "source": [
    "fig, ax = plt.subplots(1, 3, figsize=(14,4))\n",
    "\n",
    "ax[0].hist(poisson_array, alpha = 0.5, color = 'r')\n",
    "ax[0].title.set_text('Poisson')\n",
    "\n",
    "ax[1].hist(uniform_array, alpha = 0.5, color = 'g')\n",
    "ax[1].title.set_text('Uniform')\n",
    "\n",
    "ax[2].hist(normal_array, alpha = 0.5, color = 'b')\n",
    "ax[2].title.set_text('Normal')\n",
    "\n",
    "plt.show()"
   ]
  },
  {
   "cell_type": "markdown",
   "metadata": {},
   "source": [
    "### Samples\n",
    "Now, let's sample the data with random samples of $30$."
   ]
  },
  {
   "cell_type": "code",
   "execution_count": 4,
   "metadata": {},
   "outputs": [],
   "source": [
    "sp.random.seed(30)\n",
    "\n",
    "poisson_samples = [sp.random.choice(poisson_array, 30) for x in range(1000)]\n",
    "uniform_samples = [sp.random.choice(uniform_array, 30) for x in range(1000)]\n",
    "normal_samples  = [sp.random.choice(normal_array, 30)  for x in range(1000)]\n",
    "\n",
    "poisson_means = [sp.mean(x) for x in poisson_samples]\n",
    "uniform_means = [sp.mean(x) for x in uniform_samples]\n",
    "normal_means  = [sp.mean(x) for x in normal_samples]"
   ]
  },
  {
   "cell_type": "markdown",
   "metadata": {},
   "source": [
    "As we visualize them, we can see that all of our samples of the mean follow a normal distribution"
   ]
  },
  {
   "cell_type": "code",
   "execution_count": 5,
   "metadata": {},
   "outputs": [
    {
     "data": {
      "image/png": "[encoded data removed]",
      "text/plain": [
       "<Figure size 1008x288 with 3 Axes>"
      ]
     },
     "metadata": {
      "needs_background": "light"
     },
     "output_type": "display_data"
    }
   ],
   "source": [
    "fig, ax = plt.subplots(1, 3, figsize=(14,4))\n",
    "\n",
    "ax[0].hist(poisson_means, alpha = 0.5, color = 'r')\n",
    "ax[0].title.set_text('Poisson')\n",
    "\n",
    "ax[1].hist(uniform_means, alpha = 0.5, color = 'g')\n",
    "ax[1].title.set_text('Uniform')\n",
    "\n",
    "ax[2].hist(normal_means, alpha = 0.5, color = 'b')\n",
    "ax[2].title.set_text('Normal')\n",
    "\n",
    "plt.show()"
   ]
  }
 ],
 "metadata": {
  "kernelspec": {
   "display_name": "Python 3",
   "language": "python",
   "name": "python3"
  },
  "language_info": {
   "codemirror_mode": {
    "name": "ipython",
    "version": 3
   },
   "file_extension": ".py",
   "mimetype": "text/x-python",
   "name": "python",
   "nbconvert_exporter": "python",
   "pygments_lexer": "ipython3",
   "version": "3.7.3"
  }
 },
 "nbformat": 4,
 "nbformat_minor": 2
}
