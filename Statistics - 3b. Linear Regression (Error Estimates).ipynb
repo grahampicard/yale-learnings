{
 "cells": [
  {
   "cell_type": "markdown",
   "metadata": {},
   "source": [
    "# Linear Regression (Error Estimates)\n",
    "## Intuition\n",
    "We know that our estimates aren't perfect, but we need to have a way to know how accurate or how inaccurate our predictions are.\n",
    "\n",
    "We want to understand our error estimate for different parts of the regression:\n",
    "1. Overall (how much of $\\sigma^2_y$ be explained by our predicted values?)\n",
    "2. $\\beta$s individually (how well does each variable explain difference itself?)\n",
    "3. $\\beta$s collectively (do the features jointly have an impact?)\n",
    "\n",
    "Let's split this into three parts, one for each section.\n",
    "\n",
    "## Explanation\n",
    "### R-Squared ($R^2$)\n",
    "Let's start by understanding the sum of squared error. We need a baseline of variance, we call this the *total sum of squares*. This dispersion is analagous to the variance of y.\n",
    "\n",
    "**Total Sum of Squares (TSS)**\n",
    "$$\n",
    "TSS = \\sum_i (y_i - \\bar{y})^2\n",
    "$$\n",
    "\n",
    "We want to have a measure of how much of this error is left over after using our regression estimates. We call this the *residual sum of squares*.\n",
    "\n",
    "**Residual Sum of Squares (RSS)**\n",
    "$$\n",
    "RSS = \\sum_i (y_i - \\hat{y})^2 = \\sum_i \\epsilon_i^2\n",
    "$$\n",
    "\n",
    "\\*Matrix form\n",
    "$$\n",
    "RSS = \\epsilon^T\\epsilon\n",
    "$$\n",
    "\n",
    "**R-Squared (Coefficient of Determination)**\n",
    "\n",
    "This means, we can understand how much of the *variance* of $y$ can be explained by our estimates.\n",
    "\n",
    "$$\n",
    "R^2 = 1 - \\frac{RSS}{TSS}\n",
    "$$\n",
    "\n",
    "#### Example\n",
    "Let's generate the data and walk through the example\n",
    "\n",
    "##### Setup"
   ]
  },
  {
   "cell_type": "code",
   "execution_count": 1,
   "metadata": {},
   "outputs": [],
   "source": [
    "import matplotlib.pyplot as plt\n",
    "import numpy as np\n",
    "import pandas as pd\n",
    "import seaborn as sns\n",
    "sns.set_style('darkgrid')"
   ]
  },
  {
   "cell_type": "markdown",
   "metadata": {},
   "source": [
    "##### Data Recreation"
   ]
  },
  {
   "cell_type": "code",
   "execution_count": 2,
   "metadata": {},
   "outputs": [],
   "source": [
    "np.random.seed(100)\n",
    "\n",
    "# Generate X values\n",
    "X1 = np.array(range(100))\n",
    "X0 = np.ones(X1.shape)\n",
    "X = np.vstack([X0, X1]).T\n",
    "\n",
    "# True beta values\n",
    "true_betas = [3, 0.5]\n",
    "\n",
    "# Estimate Y\n",
    "y = X @ true_betas + np.random.randn(100) * 4\n",
    "\n",
    "# estimate Y\n",
    "betas = np.linalg.inv(X.T @ X) @ X.T @ y\n",
    "yhat = X @ betas"
   ]
  },
  {
   "cell_type": "markdown",
   "metadata": {},
   "source": [
    "##### TSS"
   ]
  },
  {
   "cell_type": "code",
   "execution_count": 3,
   "metadata": {},
   "outputs": [
    {
     "name": "stdout",
     "output_type": "stream",
     "text": [
      "TSS:\t21542.2313\n"
     ]
    }
   ],
   "source": [
    "# Total sum of squares\n",
    "ybar = np.mean(y)\n",
    "ydist = y - ybar\n",
    "tss = ydist.T @ ydist\n",
    "print(f\"TSS:\\t{round(tss, 4)}\")"
   ]
  },
  {
   "cell_type": "markdown",
   "metadata": {},
   "source": [
    "##### RSS"
   ]
  },
  {
   "cell_type": "code",
   "execution_count": 4,
   "metadata": {},
   "outputs": [
    {
     "name": "stdout",
     "output_type": "stream",
     "text": [
      "RSS:\t1497.1118\n"
     ]
    }
   ],
   "source": [
    "# calculate residuals\n",
    "residuals = y - yhat\n",
    "rss = residuals.T @ residuals\n",
    "print(f\"RSS:\\t{round(rss, 4)}\")"
   ]
  },
  {
   "cell_type": "markdown",
   "metadata": {},
   "source": [
    "Now, we can see that our $RSS$ is much lower than the $TSS$. This means that there is a small share of error left after subtracting our $\\hat{y}$."
   ]
  },
  {
   "cell_type": "code",
   "execution_count": 5,
   "metadata": {},
   "outputs": [
    {
     "name": "stdout",
     "output_type": "stream",
     "text": [
      "R-squared:\t0.9305\n"
     ]
    }
   ],
   "source": [
    "# R^2\n",
    "rsquared = 1 - rss / tss\n",
    "print(f\"R-squared:\\t{round(rsquared, 4)}\")"
   ]
  },
  {
   "cell_type": "markdown",
   "metadata": {},
   "source": [
    "### $\\beta$ Variance & Standard Error\n",
    "#### Variance\n",
    "Now that we know our estimates of $\\beta$ from the last notebook, we can now understand the variance of $\\hat{\\beta}$. First, let's put $\\beta$ in terms of it's true form and residual $\\epsilon$.\n",
    "\n",
    "We can rewrite $\\beta$ as\n",
    "\n",
    "$$\n",
    "\\begin{aligned}\n",
    "    \\hat{\\beta}\n",
    "        &= (X^TX)^{-1}X^Ty \\\\\n",
    "        &= (X^TX)^{-1}X^Ty \\\\\n",
    "        &= (X^TX)^{-1}X^T(X\\beta + \\epsilon)\\\\\n",
    "        &= \\beta + (X^TX)^{-1}X^T\\epsilon\n",
    "\\end{aligned}\n",
    "$$\n",
    "\n",
    "This means it's unbiased if we take the expectation of $\\beta$, so long as there is no correlation of $X^T$ and $\\epsilon$ and that $\\epsilon$ is centered around 0.\n",
    "\n",
    "$$\n",
    "\\begin{aligned}\n",
    "    E(\\hat{\\beta})\n",
    "        &= \\beta + (X^TX)^{-1}X^TE(\\epsilon) \\\\\n",
    "        &= \\beta\n",
    "\\end{aligned}\n",
    "$$\n",
    "\n",
    "Using these properties and the identities from the equation above, we can now make an estimate of the variance-covariance matrix by taking the varinace of our matrix.\n",
    "\n",
    "First, using the equation above, we know:\n",
    "$$\n",
    "\\hat{\\beta} - \\beta = (X^TX)^{-1}X^T\\epsilon\n",
    "$$\n",
    "\n",
    "Now we can use this to find the variance-covariance matrix of our $\\beta$ estimates:\n",
    "\n",
    "$$\n",
    "\\begin{aligned}\n",
    "    Var(\\hat{\\beta})\n",
    "        &= E[(X^TX)^{-1}X^T\\epsilon[(X^TX)^{-1}X^T\\epsilon]^T] \\\\\n",
    "        &= E[(X^TX)^{-1}X^T\\epsilon^{} \\epsilon^T X(X^TX)^{-1}] \\\\\n",
    "\\end{aligned}\n",
    "$$\n",
    "\n",
    "And assuming error terms are uncorrelated\n",
    "\n",
    "$$\n",
    "\\begin{aligned}\n",
    "    Var(\\hat{\\beta})\n",
    "        &= E[(X^TX)^{-1}X^T \\sigma^2 I X(X^TX)^{-1}] \\\\\n",
    "        &= \\sigma^2(X^TX)^{-1}\\\n",
    "\\end{aligned}\n",
    "$$\n",
    "\n",
    "Meaning our $\\beta$ estimated variances for each variable are:\n",
    "\n",
    "$$\n",
    "    diag\\left(\\sigma^2(X^TX)^{-1}\\right)\n",
    "$$\n",
    "\n",
    "In this case, our estimate of $\\sigma^2$ is made by calculating the amount of unexplained variance (which we assume is uncorrelated with our $\\beta$ terms), we can do this by taking the variance of our residuals. Because the sum of residuals will equal 0 (due to the fact that we minimized residual error), we can make our estimate as follows\n",
    "\n",
    "$$\n",
    "\\textrm{VCV}_\\beta = RSS(X^TX)^{-1}\n",
    "$$\n",
    "\n",
    "#### Standard Error\n",
    "\n",
    "$$\n",
    "\\textrm{SE}_\\beta = diag \\left( \\frac{RSS}{(n-k-1)}(X^TX)^{-1} \\right) ^ {0.5}\n",
    "$$\n"
   ]
  },
  {
   "cell_type": "code",
   "execution_count": 6,
   "metadata": {},
   "outputs": [
    {
     "name": "stdout",
     "output_type": "stream",
     "text": [
      "Standard Error Beta0:\t0.7759\n",
      "Standard Error Beta1:\t0.0135\n"
     ]
    }
   ],
   "source": [
    "se_beta = (rss / (X.shape[0] - X.shape[1]) * np.linalg.inv(X.T @ X).diagonal()) ** .5\n",
    "\n",
    "for i, se in enumerate(se_beta):\n",
    "    print(f\"Standard Error Beta{i}:\\t{round(se, 4)}\")"
   ]
  },
  {
   "cell_type": "markdown",
   "metadata": {},
   "source": [
    "Let's look at a quick summary table of the info we've gathered"
   ]
  },
  {
   "cell_type": "code",
   "execution_count": 7,
   "metadata": {},
   "outputs": [
    {
     "name": "stdout",
     "output_type": "stream",
     "text": [
      "Variable Results\n",
      "\n",
      "Var\tCoef\tSE\tt\n",
      "------------------------------\n",
      "Beta0:\t3.0548\t0.7759\t3.9372\n",
      "Beta1:\t0.4905\t0.0135\t36.2235\n",
      "\n",
      "Model Results\n",
      "------------------------------\n",
      "R-squared:\t0.9305\n"
     ]
    }
   ],
   "source": [
    "print(\"Variable Results\\n\")\n",
    "print(\"Var\\tCoef\\tSE\\tt\")\n",
    "print(\"-\" * 30)\n",
    "\n",
    "for x in range(len(betas)):\n",
    "    print(f\"Beta{x}:\\t{round(betas[x], 4)}\\t{round(se_beta[x], 4)}\\t{round(betas[x] / se_beta[x], 4)}\")\n",
    "\n",
    "print(\"\\nModel Results\")\n",
    "print(\"-\" * 30, sep=\"\")\n",
    "print(f\"R-squared:\\t{round(1 - rss / tss, 4)}\")"
   ]
  },
  {
   "cell_type": "markdown",
   "metadata": {},
   "source": [
    "### $\\beta$ Overall Significance\n",
    "#### Joint Hypothesis tests\n",
    "Sometimes, regression coefficients may be collinear, which means we can't tell apart coefficients. We can conduct an F-test which essentially tries to find the relative amount of error reduced by having multiple variables.\n",
    "\n",
    "There are some situations where this applies\n",
    "1. $H_0: \\beta_1=0$\n",
    "2. $H_0: \\beta_1=\\alpha$\n",
    "3. $H_0: \\beta_1=\\beta_2$\n",
    "4. $H_0: \\beta_1 + \\beta_2 = 1$\n",
    "5. $H_0: (\\beta_1=0) \\cap (\\beta_2=0) $\n",
    "\n",
    "Conceptually, we can think of the F-Test as the amount of residuals reduced by variable divided by the amount of residuals.\n",
    "\n",
    "##### Unrestricted\n",
    "$$\n",
    "Y=\\beta_0 + \\beta_1X_1 + \\beta_2X_2 + \\dots + \\epsilon\n",
    "$$\n",
    "\n",
    "##### Restricted\n",
    "$$\n",
    "Y = \\beta_0 + \\beta_2X_2 + \\dots + \\beta_{k-q}X_{k-q}+\\epsilon\n",
    "$$\n",
    "\n",
    "##### F-test Procedure\n",
    "$$\n",
    "F = \\frac{\\frac{{RSS}_R - {RSS}_{UR}}{q}}{\\frac{{RSS}_{UR}}{n-(k+1)}}\n",
    "$$\n",
    "\n",
    "Where $q$ is the number of restrictions, and $k+1$ are the number of variables in the unrestricted regression\n",
    "\n",
    "It actually makes intutive sense. One way of rewriting the F-test would be\n",
    "\n",
    "##### Example\n",
    "Let's use the same data we did for the first example"
   ]
  },
  {
   "cell_type": "code",
   "execution_count": 10,
   "metadata": {
    "scrolled": true
   },
   "outputs": [
    {
     "name": "stdout",
     "output_type": "stream",
     "text": [
      "F-Statistic: 1312.141\n"
     ]
    }
   ],
   "source": [
    "# run regression\n",
    "X_r = X.T[0].reshape(-1,1)\n",
    "B_r = np.linalg.inv(X_r.T @ X_r) @ (X_r.T @ y)\n",
    "res_r = X_r @ B_r - y\n",
    "rss_r = res_r @ res_r\n",
    "\n",
    "# gather additional f-test results\n",
    "q = X.shape[1] - X_r.shape[1]\n",
    "k = X.shape[1] -1\n",
    "n = len(X)\n",
    "\n",
    "F = ((rss_r - rss) / q) / (rss / (n - (k + 1)))\n",
    "\n",
    "print(f\"F-Statistic: {round(F, 4)}\")"
   ]
  },
  {
   "cell_type": "markdown",
   "metadata": {},
   "source": [
    "We can compare this to our critical value of F, which is calculated as follows in python"
   ]
  },
  {
   "cell_type": "code",
   "execution_count": 11,
   "metadata": {},
   "outputs": [
    {
     "name": "stdout",
     "output_type": "stream",
     "text": [
      "Critical F-Value: 3.9381\n"
     ]
    }
   ],
   "source": [
    "import scipy.stats\n",
    "f_crit = scipy.stats.f.ppf(q=1-0.05, dfn=q, dfd=(n - (k + 1)))\n",
    "\n",
    "print(f\"Critical F-Value: {round(f_crit, 4)}\")"
   ]
  },
  {
   "cell_type": "markdown",
   "metadata": {},
   "source": [
    "#### Summary\n",
    "\n",
    "And let's now look at our model's summary statistics"
   ]
  },
  {
   "cell_type": "code",
   "execution_count": 12,
   "metadata": {},
   "outputs": [
    {
     "name": "stdout",
     "output_type": "stream",
     "text": [
      "Variable Results\n",
      "\n",
      "Var\tCoef\tSE\tt\n",
      "------------------------------\n",
      "Beta0:\t3.0548\t0.7759\t3.9372\n",
      "Beta1:\t0.4905\t0.0135\t36.2235\n",
      "\n",
      "Model Results\n",
      "------------------------------\n",
      "R-squared:\t0.9305\n",
      "F-Statistic:\t1312.141\n"
     ]
    }
   ],
   "source": [
    "print(\"Variable Results\\n\")\n",
    "print(\"Var\\tCoef\\tSE\\tt\")\n",
    "print(\"-\" * 30)\n",
    "\n",
    "for x in range(len(betas)):\n",
    "    print(f\"Beta{x}:\\t{round(betas[x], 4)}\\t{round(se_beta[x], 4)}\\t{round(betas[x] / se_beta[x], 4)}\")\n",
    "\n",
    "print(\"\\nModel Results\")\n",
    "print(\"-\" * 30, sep=\"\")\n",
    "print(f\"R-squared:\\t{round(1 - rss / tss, 4)}\")\n",
    "print(f\"F-Statistic:\\t{round(F, 4)}\")"
   ]
  },
  {
   "cell_type": "code",
   "execution_count": 13,
   "metadata": {},
   "outputs": [
    {
     "name": "stdout",
     "output_type": "stream",
     "text": [
      "                            OLS Regression Results                            \n",
      "==============================================================================\n",
      "Dep. Variable:                      y   R-squared:                       0.931\n",
      "Model:                            OLS   Adj. R-squared:                  0.930\n",
      "Method:                 Least Squares   F-statistic:                     1312.\n",
      "Date:                Tue, 05 May 2020   Prob (F-statistic):           1.50e-58\n",
      "Time:                        00:00:38   Log-Likelihood:                -277.20\n",
      "No. Observations:                 100   AIC:                             558.4\n",
      "Df Residuals:                      98   BIC:                             563.6\n",
      "Df Model:                           1                                         \n",
      "Covariance Type:            nonrobust                                         \n",
      "==============================================================================\n",
      "                 coef    std err          t      P>|t|      [0.025      0.975]\n",
      "------------------------------------------------------------------------------\n",
      "const          3.0548      0.776      3.937      0.000       1.515       4.595\n",
      "x1             0.4905      0.014     36.223      0.000       0.464       0.517\n",
      "==============================================================================\n",
      "Omnibus:                        2.499   Durbin-Watson:                   2.023\n",
      "Prob(Omnibus):                  0.287   Jarque-Bera (JB):                1.641\n",
      "Skew:                           0.020   Prob(JB):                        0.440\n",
      "Kurtosis:                       2.374   Cond. No.                         114.\n",
      "==============================================================================\n",
      "\n",
      "Warnings:\n",
      "[1] Standard Errors assume that the covariance matrix of the errors is correctly specified.\n"
     ]
    }
   ],
   "source": [
    "import statsmodels.api as sm\n",
    "\n",
    "print(sm.OLS(y, X).fit().summary())"
   ]
  },
  {
   "cell_type": "markdown",
   "metadata": {},
   "source": [
    "As we can see, we are able to verify our figures in the `statsmodels` OLS package."
   ]
  },
  {
   "cell_type": "markdown",
   "metadata": {},
   "source": [
    "### $\\beta$ Example with multiple covariates\n",
    "#### Example\n",
    "Let's first add a new $x$ variable which is going to be a function of $X1$, but also has explanatory power."
   ]
  },
  {
   "cell_type": "code",
   "execution_count": 14,
   "metadata": {},
   "outputs": [],
   "source": [
    "np.random.seed(200)\n",
    "\n",
    "X2 = -12 * X1 ** .97 + np.random.rand(n) * 2\n",
    "X_new = np.array([np.ones(X1.shape), X1, X2]).T\n",
    "true_betas_new = [3, 0.5, 0.07]\n",
    "y_new = X_new @ true_betas_new + np.random.randn(n) * 4"
   ]
  },
  {
   "cell_type": "markdown",
   "metadata": {},
   "source": [
    "Let's look at pairplots of these variables"
   ]
  },
  {
   "cell_type": "code",
   "execution_count": 15,
   "metadata": {},
   "outputs": [
    {
     "data": {
      "image/png": "[encoded data removed]",
      "text/plain": [
       "<Figure size 540x540 with 12 Axes>"
      ]
     },
     "metadata": {
      "needs_background": "light"
     },
     "output_type": "display_data"
    }
   ],
   "source": [
    "df = pd.DataFrame(X_new, columns=['const', 'X1', 'X2']).assign(y=y_new)\n",
    "\n",
    "sns.pairplot(df[['X1', 'X2', 'y']])\n",
    "plt.show()"
   ]
  },
  {
   "cell_type": "markdown",
   "metadata": {},
   "source": [
    "Now, if we get our beta estimates, standard error, and p-values, we can see that our estimates are incorrect."
   ]
  },
  {
   "cell_type": "code",
   "execution_count": 16,
   "metadata": {},
   "outputs": [],
   "source": [
    "# Regression Predictions\n",
    "betas_unrestricted = np.linalg.inv(X_new.T @ X_new) @ X_new.T @ y_new\n",
    "yhats_unrestricted = X_new @ betas_unrestricted\n",
    "resid_unrestricted = y_new - yhats_unrestricted\n",
    "error_unrestricted = (resid_unrestricted @ resid_unrestricted / (X_new.shape[0] - X_new.shape[1]) *\n",
    "                      np.linalg.inv(X_new.T @ X_new).diagonal()) ** .5\n",
    "\n",
    "# P-Values\n",
    "pvalues = betas_unrestricted / error_unrestricted\n",
    "\n",
    "unrestricted_rss = resid_unrestricted @ resid_unrestricted\n",
    "tss = (y_new - np.mean(y_new)) @ (y_new - np.mean(y_new))"
   ]
  },
  {
   "cell_type": "markdown",
   "metadata": {},
   "source": [
    "In this case, both our explanatory $x$ variables are insignificant, but our $R$-squared is high. This suggests our specified model has some sort of explanatory power. We can test for joint significance to find the answer.\n",
    "\n",
    "We can start by running our restricted regression & finding our F-statistic."
   ]
  },
  {
   "cell_type": "code",
   "execution_count": 17,
   "metadata": {},
   "outputs": [],
   "source": [
    "# Restricted Variables\n",
    "X_r = X_new.T[0].reshape(-1,1)\n",
    "betas_restricted = np.linalg.inv(X_r.T @ X_r) @ X_r.T @ y_new\n",
    "yhats_restricted = X_r @ betas_restricted\n",
    "resid_restricted = y_new - yhats_restricted\n",
    "restricted_rss = resid_restricted @ resid_restricted\n",
    "\n",
    "q = 2\n",
    "f_test = ((restricted_rss - unrestricted_rss) / q) / (unrestricted_rss / (n - q - 1))"
   ]
  },
  {
   "cell_type": "markdown",
   "metadata": {},
   "source": [
    "Now, let's look at our results"
   ]
  },
  {
   "cell_type": "code",
   "execution_count": 18,
   "metadata": {
    "scrolled": true
   },
   "outputs": [
    {
     "name": "stdout",
     "output_type": "stream",
     "text": [
      "Variable Results\n",
      "\n",
      "Var\tCoef\tT-Stat\n",
      "-------------------------\n",
      "Beta0:\t3.3436\t2.7131\n",
      "Beta1:\t1.1375\t0.9929\n",
      "Beta2:\t0.1304\t1.1845\n",
      "\n",
      "Significance\n",
      "-------------------------\n",
      "R-squared:\t0.7728\n",
      "F-statistic:\t164.9924\n"
     ]
    }
   ],
   "source": [
    "# Summary\n",
    "print(\"Variable Results\")\n",
    "print()\n",
    "print(\"Var\\tCoef\\tT-Stat\")\n",
    "print(\"-\" * 25)\n",
    "\n",
    "for x in range(3):\n",
    "    print(f\"Beta{x}:\\t{round(betas_unrestricted[x], 4)}\\t{round(pvalues[x], 4)}\")\n",
    "\n",
    "print(\"\\nSignificance\")\n",
    "print(\"-\" * 25, sep=\"\")\n",
    "print(f\"R-squared:\\t{round(1 - unrestricted_rss / tss, 4)}\")\n",
    "print(f\"F-statistic:\\t{round(f_test, 4)}\")"
   ]
  },
  {
   "cell_type": "markdown",
   "metadata": {},
   "source": [
    "## Comparision\n",
    "Let's compare this to the output from statsmodels."
   ]
  },
  {
   "cell_type": "code",
   "execution_count": 19,
   "metadata": {},
   "outputs": [
    {
     "name": "stdout",
     "output_type": "stream",
     "text": [
      "                            OLS Regression Results                            \n",
      "==============================================================================\n",
      "Dep. Variable:                      y   R-squared:                       0.773\n",
      "Model:                            OLS   Adj. R-squared:                  0.768\n",
      "Method:                 Least Squares   F-statistic:                     165.0\n",
      "Date:                Tue, 05 May 2020   Prob (F-statistic):           6.07e-32\n",
      "Time:                        00:00:48   Log-Likelihood:                -265.46\n",
      "No. Observations:                 100   AIC:                             536.9\n",
      "Df Residuals:                      97   BIC:                             544.7\n",
      "Df Model:                           2                                         \n",
      "Covariance Type:            nonrobust                                         \n",
      "==============================================================================\n",
      "                 coef    std err          t      P>|t|      [0.025      0.975]\n",
      "------------------------------------------------------------------------------\n",
      "const          3.3436      1.232      2.713      0.008       0.898       5.790\n",
      "x1             1.1375      1.146      0.993      0.323      -1.136       3.411\n",
      "x2             0.1304      0.110      1.184      0.239      -0.088       0.349\n",
      "==============================================================================\n",
      "Omnibus:                        1.380   Durbin-Watson:                   2.025\n",
      "Prob(Omnibus):                  0.502   Jarque-Bera (JB):                0.873\n",
      "Skew:                           0.179   Prob(JB):                        0.646\n",
      "Kurtosis:                       3.284   Cond. No.                     2.80e+03\n",
      "==============================================================================\n",
      "\n",
      "Warnings:\n",
      "[1] Standard Errors assume that the covariance matrix of the errors is correctly specified.\n",
      "[2] The condition number is large, 2.8e+03. This might indicate that there are\n",
      "strong multicollinearity or other numerical problems.\n"
     ]
    }
   ],
   "source": [
    "import statsmodels.api as sm\n",
    "\n",
    "reg = sm.OLS(y_new, X_new).fit()\n",
    "\n",
    "print(reg.summary())"
   ]
  }
 ],
 "metadata": {
  "kernelspec": {
   "display_name": "Python 3",
   "language": "python",
   "name": "python3"
  },
  "language_info": {
   "codemirror_mode": {
    "name": "ipython",
    "version": 3
   },
   "file_extension": ".py",
   "mimetype": "text/x-python",
   "name": "python",
   "nbconvert_exporter": "python",
   "pygments_lexer": "ipython3",
   "version": "3.7.3"
  }
 },
 "nbformat": 4,
 "nbformat_minor": 2
}
