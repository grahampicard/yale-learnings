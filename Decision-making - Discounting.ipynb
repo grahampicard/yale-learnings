{
 "cells": [
  {
   "cell_type": "markdown",
   "metadata": {},
   "source": [
    "# Discounting\n",
    "## Intuition\n",
    "Discounting comes up in some form in almost every class in an MBA program. It's a critical part of pricing, revenue estimation, and a whole host of other classes.\n",
    "\n",
    "The idea behind it is simple, it's that things in the future have some sort of uncertainty inherent to them, so we are more likely to value things that are in the present. This rate of uncertainty can be based on something, or it can be arbitrary.\n",
    "\n",
    "The intuition is that you can take values that are in the future and scale them by a factor so we can sum them up and use these figures to evaluate decisions."
   ]
  },
  {
   "cell_type": "markdown",
   "metadata": {},
   "source": [
    "## Explanation\n",
    "### Terminology\n",
    "First, we have a certain rate at which we discount things. We call this $r$. We can use this to create a discount factor which we use to weight things in the present. \n",
    "\n",
    "#### Discount Rate\n",
    "\n",
    "$$\n",
    "r\n",
    "$$\n",
    "\n",
    "#### Discount Factor\n",
    "\n",
    "$$\n",
    "\\delta = \\frac{ 1 } { 1 + r }\n",
    "$$\n",
    "\n",
    "### Multiple periods\n",
    "Often, we'll use these across multiple periods. Let's assume a value $x_t$ which represents some number in some given period.\n",
    "\n",
    "$$\n",
    "\\frac{ x_t }  { (1 + r)^t }\n",
    "$$\n",
    "\n",
    "What's important to note is (1) this is non-linear, (2) this is doesn't imply any relationship between $x_t$ and $x_{t+1}$.\n",
    "\n",
    "### Summation\n",
    "When this becomes very useful is when we sum discounting over multiple periods in order to get one number. This takes the following form:\n",
    "\n",
    "$$\n",
    "\\sum_{t=0}^{T} \\frac{ x_t }  { (1 + r_t)^t } = x_t \\delta^t_t\n",
    "$$\n",
    "\n",
    "Now, assuming a constant rate over time, this becomes a geometric series. If we want to find the summation of it, we can derive it by conducting the following:\n",
    "\n",
    "$$\n",
    "\\begin{align}\n",
    "S_n &= x + x \\delta^1 + x \\delta^2 + \\dots + x \\delta ^{n-1} \\\\\n",
    "\\delta S_n &= \\delta(x + x \\delta^1 + x \\delta^2 + \\dots + x \\delta ^{n-1})\n",
    "\\end{align}\n",
    "$$\n",
    "\n",
    "Now we can subtract the two \n",
    "\n",
    "$$\n",
    "\\begin{align}\n",
    "S_n - \\delta S_n &= x - x\\delta^n \\\\\n",
    "S_n(1 - \\delta) &= x(1 - \\delta^n) \\\\\n",
    "S_n &= \\frac{ x(1 - \\delta^n) } { (1 - \\delta) }\n",
    "\\end{align}\n",
    "$$\n",
    "\n",
    "### Perpetuity\n",
    "This becomes very useful because we often want to calculate the value of a summation in perpetuity when $x$ is either (a) constant (b) linear such that $g \\lt r$.\n",
    "By taking the limit as $n$ approaches positive infinity, we get the following infinite summation formula:\n",
    "\n",
    "$$\n",
    "S_n = \\frac{x} {1-\\delta}\n",
    "$$\n",
    "\n",
    "Another way of expressing the derivation is as follows, where our starting term is $t=1$.\n",
    "\n",
    "$$\n",
    "\\sum_{t=1}^{T} \\frac{ x_t }  { (1 + r)^t }\n",
    "$$\n",
    "\n",
    "This means\n",
    "\n",
    "$$\n",
    "\\begin{align}\n",
    "S_n &= \\frac{x}{1+r} + \\frac{x}{(1+r)^2} + \\frac{x}{(1+r)^3} + \\dots \\\\\n",
    "(1+r)S_n &= x + \\frac{x}{(1+r)^2} + \\frac{x}{(1+r)^3} + \\dots \\\\\n",
    "rS_n &= x \\\\\n",
    "S_n &= \\frac{x}{r}\n",
    "\\end{align} \n",
    "$$\n",
    "\n",
    "### Special case: Growth & Discount\n",
    "Let's assume that in addition to discounting every period, we also grow every period, such that $g < r$.\n",
    "\n",
    "$$\n",
    "\\begin{align}\n",
    "S_n &= \\frac {x} {1+r} + \\frac {x (1+g)} {(1+r)^2} + \\frac {x (1+g)^2} {(1+r)^3} + \\dots \\\\\n",
    "\\frac{1+r}{1+g} S_n &= \\frac {x} {1+g} + \\frac {x} {1+r} + \\frac {x (1+g)} {(1+r)^2} + \\dots\n",
    "\\end{align}\n",
    "$$\n",
    "\n",
    "Now, we can subtract off $S_n$ from both sides, which would leave us with the following\n",
    "\n",
    "$$\n",
    "\\begin{align}\n",
    "\\frac{1+r}{1+g} S_n - S_n &= \\frac {x} {1+g} \\\\\n",
    "(1+r)S_n - (1+g)S_n &= x \\\\\n",
    "S_n(1 + r - 1 - g) &= x \\\\\n",
    "S_n &= \\frac { x } { r - g }\n",
    "\\end{align}\n",
    "$$\n"
   ]
  },
  {
   "cell_type": "markdown",
   "metadata": {},
   "source": [
    "## Example\n",
    "### Perpetuity\n",
    "Let's assume we're making \\$100 every year forever. Let's assume that we discount annually by 4\\%. Let's assume this starts next year. that means, we'd have the following.\n",
    "\n",
    "$$\n",
    "\\frac { 100 } { (1+0.04)^1 } + \\frac { 100 } { (1+0.04)^2 } + \\frac { 100 } { (1+0.04)^3 } + \\dots\n",
    "$$\n",
    "\n",
    "The result would be $\\frac{ 100 } { 0.04 } = 2500$."
   ]
  },
  {
   "cell_type": "code",
   "execution_count": 4,
   "metadata": {},
   "outputs": [],
   "source": [
    "%matplotlib inline\n",
    "import matplotlib.pyplot as plt\n",
    "import seaborn as sns\n",
    "sns.set_style('darkgrid')\n",
    "\n",
    "\n",
    "x = 100\n",
    "T = 10000\n",
    "r = 0.04\n",
    "\n",
    "results = [ x  / (1 + r) ** t for t in range(1, T)]"
   ]
  },
  {
   "cell_type": "markdown",
   "metadata": {},
   "source": [
    "Let's look at the first few hundred items"
   ]
  },
  {
   "cell_type": "code",
   "execution_count": 11,
   "metadata": {},
   "outputs": [
    {
     "data": {
      "image/png": "[encoded data removed]",
      "text/plain": [
       "<Figure size 432x288 with 1 Axes>"
      ]
     },
     "metadata": {},
     "output_type": "display_data"
    }
   ],
   "source": [
    "plt.plot(results[:200])\n",
    "plt.title('Future Value')\n",
    "plt.show()"
   ]
  },
  {
   "cell_type": "markdown",
   "metadata": {},
   "source": [
    "Now, let's look at the solution."
   ]
  },
  {
   "cell_type": "code",
   "execution_count": 17,
   "metadata": {},
   "outputs": [
    {
     "name": "stdout",
     "output_type": "stream",
     "text": [
      "Sum of results:\t\t 2499.999999999991\n",
      "Analytic solution:\t 2500.0\n"
     ]
    }
   ],
   "source": [
    "print(\"Sum of results:\\t\\t\", sum(results))\n",
    "print(\"Analytic solution:\\t\", x / r)"
   ]
  },
  {
   "cell_type": "markdown",
   "metadata": {},
   "source": [
    "### Special Case: Growth & Discount\n",
    "Let's now assume that we get a 1\\% increase annually."
   ]
  },
  {
   "cell_type": "code",
   "execution_count": 23,
   "metadata": {},
   "outputs": [
    {
     "name": "stdout",
     "output_type": "stream",
     "text": [
      "Sum of results:\t\t 3333.3333333333267\n",
      "Analytic solution:\t 3333.3333333333335\n"
     ]
    }
   ],
   "source": [
    "g = 0.01\n",
    "\n",
    "results2 = [ (x * (1 + g) ** (t - 1))  / (1 + r) ** t for t in range(1, T)]\n",
    "\n",
    "print(\"Sum of results:\\t\\t\", sum(results2))\n",
    "print(\"Analytic solution:\\t\", x / (r - g))"
   ]
  }
 ],
 "metadata": {
  "kernelspec": {
   "display_name": "Python 3",
   "language": "python",
   "name": "python3"
  },
  "language_info": {
   "codemirror_mode": {
    "name": "ipython",
    "version": 3
   },
   "file_extension": ".py",
   "mimetype": "text/x-python",
   "name": "python",
   "nbconvert_exporter": "python",
   "pygments_lexer": "ipython3",
   "version": "3.7.3"
  }
 },
 "nbformat": 4,
 "nbformat_minor": 2
}
