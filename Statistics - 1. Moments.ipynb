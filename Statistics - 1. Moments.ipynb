{
 "cells": [
  {
   "cell_type": "markdown",
   "metadata": {},
   "source": [
    "# Moments"
   ]
  },
  {
   "cell_type": "markdown",
   "metadata": {},
   "source": [
    "## Intution\n",
    "Statistical moments are a concept not often discussed in MBA coursework in terms of moments. While we talk about means, variance, standard deviation, and sometimes covariance regularly, we don't often talk about what they mean.\n",
    "\n",
    "The intuition behind statistical moments are that we have a collection of data, and we can identify certain patterns or specifics about the data by performing routine calculations.\n",
    "\n",
    "https://stats.stackexchange.com/questions/132914/what-exactly-are-moments-how-are-they-derived\n",
    "\n",
    "We have four moments we'll discuss: (1) Mean, (2) Variance, (3) Skewness, and (4) Kurtosis\n",
    "\n",
    "### Mean\n",
    "The mean is best describe as the \"center of mass\" off a distribution relative to 0.\n",
    "\n",
    "### Variance\n",
    "Variance just shows us how spread apart our distribution is relative to the mean. We'll also discuss Standard Deviation, Covariance, and Correlation.\n",
    "\n",
    "### Skewness\n",
    "Skewness shows us how things are distributed to the left or right of the mean.\n",
    "\n",
    "### Kurtosis\n",
    "Kurtosis is how to close to center is the distribution."
   ]
  },
  {
   "cell_type": "markdown",
   "metadata": {},
   "source": [
    "## Explanation\n",
    "This part's going to be a bit long, since we need to describe the formulas for each moment. But let's start off with a **standard** formula and move forward from there.\n",
    "\n",
    "We can standardize statistical moments with this general formula\n",
    "\n",
    "$$\n",
    "\\frac{E[(X - \\mu)^n]}{\\sigma^n} = \\tilde{\\mu}_n\n",
    "$$\n",
    "\n",
    "Now, for the Mean, this will equal 0, and for variance, it will equal 1, but it serves as a general formula for higher dimension statistical moments.\n",
    "\n",
    "### Mean\n",
    "By \"center of mass\" we  mean center.\n",
    "\n",
    "#### Expected Value Notation\n",
    "$$\n",
    "E[X]\n",
    "$$\n",
    "\n",
    "#### Summation Notation\n",
    "$$\n",
    "\\frac{1}{N} \\sum_{x=1}^Nx_i\n",
    "$$"
   ]
  },
  {
   "cell_type": "code",
   "execution_count": 1,
   "metadata": {},
   "outputs": [],
   "source": [
    "def mean(array):\n",
    "    return sum(array) / len(array)"
   ]
  },
  {
   "cell_type": "markdown",
   "metadata": {},
   "source": [
    "### Variance\n",
    "#### Expected Value Notation\n",
    "$$\n",
    "E[(X-\\mu)^2]\n",
    "$$\n",
    "\n",
    "#### Summation Notation\n",
    "##### Population\n",
    "$$\n",
    "\\frac{1}{N} \\sum_{x=1}^N (x_i - \\bar{x})^2 \\\\\n",
    "$$\n",
    "\n",
    "##### Sample\n",
    "$$\n",
    "\\frac{1}{N-1} \\sum_{x=1}^N (x_i - \\bar{x})^2\n",
    "$$"
   ]
  },
  {
   "cell_type": "code",
   "execution_count": 2,
   "metadata": {},
   "outputs": [],
   "source": [
    "def var(array, sample=True):\n",
    "    \"\"\"\n",
    "    Step 1: Calculate the mean, $\\bar{x}$\n",
    "    Step 2: Calculate Degrees of Freedom. Because we need at \n",
    "            least one observation to calculate the mean, by\n",
    "            default we're adjusting for this.\n",
    "    Step 3: Calculate the dispersion. Sum of squared difference \n",
    "            between the observations and their means.\n",
    "    \"\"\"\n",
    "\n",
    "    mean_x = mean(array)\n",
    "    dispersion = sum(map(lambda x: (x - mean_x) ** 2, array))    \n",
    "    n = len(array)\n",
    "    \n",
    "    if sample is True:\n",
    "        n = n - 1\n",
    "    \n",
    "    return dispersion / n"
   ]
  },
  {
   "cell_type": "markdown",
   "metadata": {},
   "source": [
    "#### NB Standard Deviation\n",
    "While not a moment, it's important to discuss. Intuitively, this is the same as variance, just in units of the mean\n",
    "\n",
    "$$\n",
    "Var(X)^{1/2}\n",
    "$$"
   ]
  },
  {
   "cell_type": "code",
   "execution_count": 3,
   "metadata": {},
   "outputs": [],
   "source": [
    "def std(array, sample=True):\n",
    "    return var(array, sample) ** 0.5"
   ]
  },
  {
   "cell_type": "markdown",
   "metadata": {},
   "source": [
    "#### NB Covariance\n",
    "Similarly, Covariance is a measure of dispersion for two variables\n",
    "\n",
    "##### Definition\n",
    "$$\n",
    "\\textrm{Cov}(x,y) \\equiv \\sigma_{x,y}\n",
    "$$\n",
    "\n",
    "##### Expected Value Notation\n",
    "$$\n",
    "E[(x-\\mu_x)(y-\\mu_y)]\n",
    "$$\n",
    "\n",
    "##### Summation Notation\n",
    "###### Population\n",
    "$$\n",
    "\\frac{1}{N} \\sum_{x=1}^N (x_i - \\bar{x})(y_i - \\bar{y})\n",
    "$$\n",
    "\n",
    "##### Sample\n",
    "$$\n",
    "\\frac{1}{N-1} \\sum_{x=1}^N (x_i - \\bar{x})(y_i - \\bar{y})\n",
    "$$\n",
    "\n"
   ]
  },
  {
   "cell_type": "code",
   "execution_count": 4,
   "metadata": {},
   "outputs": [],
   "source": [
    "def cov(array_x, array_y, sample=True):\n",
    "    \"\"\"\n",
    "    This takes the same form as variance. Instead of squaring\n",
    "    the measure of dispersion, we're multiplying the dispersion\n",
    "    of each series\n",
    "    \"\"\"\n",
    "    \n",
    "    mean_x = mean(array_x)\n",
    "    mean_y = mean(array_y)\n",
    "\n",
    "    dispersion = [(array_x[i] - mean_x) * (array_y[i] - mean_y) for i in range(len(array_x))]\n",
    "    dispersion = sum(dispersion)\n",
    "    \n",
    "    n = len(array_x)\n",
    "\n",
    "    if sample is True:\n",
    "        n = n - 1\n",
    "\n",
    "    return dispersion / n"
   ]
  },
  {
   "cell_type": "markdown",
   "metadata": {},
   "source": [
    "#### NB Correlation\n",
    "Correlation is related to covariance. It's a standardized measure of covariance relative to standard deviations.\n",
    "\n",
    "$$\n",
    "\\rho_{xy} = \\frac{\\sigma_{x,y}}{\\sigma_x\\sigma_y}\n",
    "$$"
   ]
  },
  {
   "cell_type": "code",
   "execution_count": 5,
   "metadata": {},
   "outputs": [],
   "source": [
    "def correlation(x, y, sample=True):\n",
    "    return cov(x, y, sample) / (std(x, sample) * std(y, sample)) "
   ]
  },
  {
   "cell_type": "markdown",
   "metadata": {},
   "source": [
    "### Skewness\n",
    "Skewness is essentially a measure of how clustered a distribution is to the left or right of the mean.\n",
    "\n",
    "#### Expected Value Notation\n",
    "$$\n",
    "\\frac{\\mu_3}{\\sigma^3} = \\frac{E[(X - \\mu)^3]}{\\sigma^3} = \\tilde{\\mu}_3\n",
    "$$\n",
    "\n",
    "#### Summation Notation\n",
    "##### Equation (Biased)\n",
    "$$\n",
    "\\begin{align}\n",
    "&s_{biased} = \\frac{ \\frac{1}{n} \\sum_{i=1}^n(x_i - \\bar{x})^3} {\\left( \\sqrt{ \\frac{1}{n} \\sum_{i=1}^n(x_i - \\bar{x})^2 } \\right)^3}\n",
    "\\end{align}\n",
    "$$\n",
    "\n",
    "##### Equation (Un-biased)\n",
    "$$\n",
    "s_{unbiased} = \\left(s_{biased}\\right)\\left(\\frac{ \\sqrt{N(N-1)}} {N-2}\\right)\n",
    "$$\n"
   ]
  },
  {
   "cell_type": "code",
   "execution_count": 6,
   "metadata": {},
   "outputs": [],
   "source": [
    "def skewness(array, bias=False):\n",
    "    \"\"\"\n",
    "    Step 1: Calculate the mean, $\\bar{x}$\n",
    "    Step 2: Calculate Degrees of Freedom. Because we need at \n",
    "            least one observation to calculate the mean, by\n",
    "            default we're adjusting for this.\n",
    "    Step 3: Calculate the dispersion. Sum of squared difference \n",
    "            between the observations and their means.\n",
    "    \"\"\"\n",
    "\n",
    "    mean_x = mean(array)\n",
    "    dispersion = 1 / len(array) * sum(map(lambda x: (x - mean_x) ** 3, array))\n",
    "    den = std(array, False) ** 3\n",
    "    \n",
    "    if bias:\n",
    "        bias_correction = (len(array) * (len(array) - 1)) ** .5 / (len(array) - 2)\n",
    "    else:\n",
    "        bias_correction = 1\n",
    "        \n",
    "    return dispersion / den * bias_correction"
   ]
  },
  {
   "cell_type": "markdown",
   "metadata": {},
   "source": [
    "### Kurtosis\n",
    "We generally don't think about Kurtosis in absolute terms like mean or variance either. Instead, we standardize it to measure how wide the distribution is. Let's use Pearson's kurtosis.\n",
    "\n",
    "#### Expected Value Notation\n",
    "$$\n",
    "\\frac{\\mu_4}{\\sigma^4} = \\frac{E[(X - \\mu)^4]}{\\sigma^4} = \\tilde{\\mu}_4\n",
    "$$\n",
    "\n",
    "#### Summation Notation\n",
    "##### Equation (Biased)\n",
    "$$\n",
    "k_1 = \\frac{ \\frac{1}{n} \\sum_{i=1}^n(x_i - \\bar{x})^4 } \n",
    "           { \\left(\\frac{1}{n} \\sum_{i=1}^n(x_i-\\bar{x})^2\\right)^2}\n",
    "$$\n",
    "\n",
    "##### Equation (Un-biased)\n",
    "$$\n",
    "k_0 = \\frac{ n-1 } { (n-2)(n-3) } ((n+1)k_1-3(n-1)) + 3\n",
    "$$\n",
    "\n"
   ]
  },
  {
   "cell_type": "code",
   "execution_count": 7,
   "metadata": {},
   "outputs": [],
   "source": [
    "def kurtosis(array, bias=False):\n",
    "    \"\"\"\n",
    "    Step 1: Calculate the mean, $\\bar{x}$\n",
    "    Step 2: Calculate Degrees of Freedom. Because we need at \n",
    "            least one observation to calculate the mean, by\n",
    "            default we're adjusting for this.\n",
    "    Step 3: Calculate the dispersion. Sum of squared difference \n",
    "            between the observations and their means.\n",
    "    \"\"\"\n",
    "\n",
    "    mean_x = mean(array)\n",
    "    dispersion = 1 / len(array) * sum(map(lambda x: (x - mean_x) ** 4, array))\n",
    "    den = std(array, False) ** 4\n",
    "    kurt = dispersion / den\n",
    "    n = len(array)\n",
    "\n",
    "    if bias:\n",
    "        result = ((n - 1) / ((n-2) * (n-3))) * ((n+1) * kurt - 3 * (n - 1)) + 3\n",
    "    else:\n",
    "        result = kurt\n",
    "\n",
    "    return result"
   ]
  }
 ],
 "metadata": {
  "kernelspec": {
   "display_name": "Python 3",
   "language": "python",
   "name": "python3"
  },
  "language_info": {
   "codemirror_mode": {
    "name": "ipython",
    "version": 3
   },
   "file_extension": ".py",
   "mimetype": "text/x-python",
   "name": "python",
   "nbconvert_exporter": "python",
   "pygments_lexer": "ipython3",
   "version": "3.7.3"
  }
 },
 "nbformat": 4,
 "nbformat_minor": 2
}
