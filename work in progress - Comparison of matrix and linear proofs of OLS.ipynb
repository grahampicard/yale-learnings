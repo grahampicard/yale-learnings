{
 "cells": [
  {
   "cell_type": "markdown",
   "metadata": {},
   "source": [
    "$$\n",
    "(X^TX)^{-1}X^Ty\n",
    "$$"
   ]
  },
  {
   "cell_type": "markdown",
   "metadata": {},
   "source": [
    "Let's start with $X^Ty$, and only the $\\beta_1$"
   ]
  },
  {
   "cell_type": "markdown",
   "metadata": {},
   "source": [
    "$$\n",
    "\\begin{bmatrix}\n",
    "\\sum y_i \\\\\n",
    "\\sum x_i y_i\n",
    "\\end{bmatrix}\n",
    "$$"
   ]
  },
  {
   "cell_type": "markdown",
   "metadata": {},
   "source": [
    "Now, let's focus on the denominator. Our $X^TX$ matrix will have this form"
   ]
  },
  {
   "cell_type": "markdown",
   "metadata": {},
   "source": [
    "$$\n",
    "\\begin{bmatrix}\n",
    "N & \\sum x_i \\\\ \n",
    "\\sum x_i & \\sum x_i^2\n",
    "\\end{bmatrix}\n",
    "$$"
   ]
  },
  {
   "cell_type": "markdown",
   "metadata": {},
   "source": [
    "Now, let's take the inverse. We only care about the first two entries for row 1"
   ]
  },
  {
   "cell_type": "markdown",
   "metadata": {},
   "source": [
    "$$\n",
    "\\frac{1}{n \\sum x_i^2 - (\\sum{x_i})^2}\n",
    "\\begin{bmatrix}\n",
    "\\sum x_i^2 & -\\sum x_i \\\\ \n",
    "-\\sum x_i   & n\n",
    "\\end{bmatrix}\n",
    "$$"
   ]
  },
  {
   "cell_type": "markdown",
   "metadata": {},
   "source": [
    "Now, this means that our estimate will be"
   ]
  },
  {
   "cell_type": "markdown",
   "metadata": {},
   "source": [
    "$$\n",
    "\\frac{ \\sum x_i^2 \\sum y_i - \\sum x_i \\sum x_i y_i\n",
    "}{n \\sum x_i^2 - (\\sum{x_i})^2}\n",
    "$$"
   ]
  },
  {
   "cell_type": "markdown",
   "metadata": {},
   "source": [
    "$$\n",
    "\\frac{ n \\bar{y} \\sum x^2 - n \\bar{x} \\sum x_i y_i\n",
    "}{n \\sum x_i^2 - n^2 \\bar{x} ^ 2}\n",
    "$$"
   ]
  },
  {
   "cell_type": "markdown",
   "metadata": {},
   "source": [
    "$$\n",
    "\\frac{\\bar{y} \\sum x^2 - \\bar{x} \\sum x_i y_i\n",
    "}{\\sum x_i^2 - n \\bar{x} ^ 2}\n",
    "$$"
   ]
  },
  {
   "cell_type": "markdown",
   "metadata": {},
   "source": [
    "While $\\beta_1$ will be"
   ]
  },
  {
   "cell_type": "markdown",
   "metadata": {},
   "source": [
    "$$\n",
    "\\frac{ - \\sum x_i \\sum y_i + n \\sum x_i y_i\n",
    "}{n \\sum x_i^2 - (\\sum{x_i})^2}\n",
    "$$"
   ]
  },
  {
   "cell_type": "markdown",
   "metadata": {},
   "source": [
    "$$\n",
    "\\frac{n \\sum x_i y_i - \\sum x_i \\sum y_i \n",
    "}{n \\sum x_i^2 - (\\sum{x_i})^2}\n",
    "$$"
   ]
  },
  {
   "cell_type": "markdown",
   "metadata": {},
   "source": [
    "$$\n",
    "\\frac{n \\sum x_i y_i - n^2 \\bar{x} \\bar{y} \n",
    "}{n \\sum x_i^2 - (n \\bar{x})^2}\n",
    "$$"
   ]
  },
  {
   "cell_type": "markdown",
   "metadata": {},
   "source": [
    "$$\n",
    "\\frac{\\sum x_i y_i - n \\bar{x} \\bar{y} \n",
    "}{\\sum x_i^2 - n \\bar{x}^2}\n",
    "$$"
   ]
  },
  {
   "cell_type": "markdown",
   "metadata": {},
   "source": [
    "As we've seen earlier, this is equivalent to the covariance divided by the variance."
   ]
  },
  {
   "cell_type": "markdown",
   "metadata": {},
   "source": [
    "$$\n",
    "\\frac{ - \\sum x_i \\sum y_i + n \\sum x_i y_i\n",
    "}{n \\sum x_i^2 - (\\sum{x_i})^2} = \n",
    "\\frac{\\sum x_i y_i - \\bar{x}\\bar{y}}{\\sum x_i ^2 - \\bar{x}^2}\n",
    "$$"
   ]
  },
  {
   "cell_type": "markdown",
   "metadata": {},
   "source": [
    "What's remarkable is that through this process, we've been able to recreate variance and covariance through a series of linear operations."
   ]
  },
  {
   "cell_type": "markdown",
   "metadata": {},
   "source": [
    "We can see that the determinant of this matrix is actually \n",
    "\n",
    "$$\n",
    "n \\times \\textrm{var}(x_i)\n",
    "$$\n",
    "\n",
    "And if $x_0 \\neq 1$, then it would have been\n",
    "\n",
    "$$\n",
    "\\sum x_{0,i}^2 \\sum x_{1,i}^2 - \\left(\\sum x_{0,i} x_{1,i} \\right)^2\n",
    "$$"
   ]
  }
 ],
 "metadata": {
  "kernelspec": {
   "display_name": "Python 3",
   "language": "python",
   "name": "python3"
  },
  "language_info": {
   "codemirror_mode": {
    "name": "ipython",
    "version": 3
   },
   "file_extension": ".py",
   "mimetype": "text/x-python",
   "name": "python",
   "nbconvert_exporter": "python",
   "pygments_lexer": "ipython3",
   "version": "3.7.3"
  }
 },
 "nbformat": 4,
 "nbformat_minor": 2
}