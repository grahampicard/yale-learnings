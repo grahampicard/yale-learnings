{
 "cells": [
  {
   "cell_type": "markdown",
   "metadata": {},
   "source": [
    "# Fundamentals\n",
    "## Intuition\n",
    "The intuition behind probability is actually pretty easy. We can think of the likelihood of events happening, which is just fractions. When we measure probability, we care about two things in particular:\n",
    "1. Events are Mutually Exclusive\n",
    "2. Events are Collectively Exhaustive\n",
    "This motivation for this is that we can now put math to the fundamentals of probability.\n",
    "\n",
    "From here, we can start taking fractions of events to assign probabilities. Probability is little more than fractions. The symbols are the hardest part about probability."
   ]
  },
  {
   "cell_type": "markdown",
   "metadata": {},
   "source": [
    "## Explanation"
   ]
  },
  {
   "cell_type": "markdown",
   "metadata": {},
   "source": [
    "Let's start with the big picture then deduce our way to more complicated issues.\n",
    "\n",
    "- Let $S$ represent sample space\n",
    "- Let $e$ represent an event\n",
    "- $S = \\{e_1, e_2, \\dots, e_n\\}$\n",
    "\n",
    "There are a few important laws to keep in mind:\n",
    "\n",
    "- Law of Complements: $Pr\\{\\bar{A}\\}=1-Pr\\{A\\}$\n",
    "- Addition Rule: $Pr\\{A \\cup B\\} = Pr\\{A\\} + Pr\\{B\\} - Pr\\{A \\cap B \\}$\n",
    "- Conditional Rule: $Pr\\{A|B\\} = \\frac{Pr\\{A \\cap B\\}} {Pr\\{B\\}}$\n",
    "- Product Rule: $Pr\\{A \\cap B\\} = Pr\\{A\\}Pr\\{B|A\\} = Pr\\{B\\}Pr\\{A|B\\}$\n",
    "\n",
    "What are the most important are the Conditional Rule and the Product rule."
   ]
  },
  {
   "cell_type": "markdown",
   "metadata": {},
   "source": [
    "Conditional probability is easier to grasp than the symbols suggest. Basically, we can think of it as finding all the cases when $A$ is true AND $B$ is true. That gives us our numerator. Our denominator is all the cases when B is true. \n",
    "\n",
    "So conditional probability is a fraction of a subset of the sample space $S$. Now, let's start thinking about how we can use this relationship productively. \n",
    "\n",
    "Let's say we have a conditional probability $Pr(A|B)$. The numerator is a subset of $A\\cap B$ while the denominator is $B$ itself. \n",
    "\n",
    "$$\n",
    "\\frac{Pr(A \\cap B)}{Pr(B)}\n",
    "$$\n",
    "\n",
    "What if, instead of $Pr(A|B)$ we swapped out A for the denominator? This would yield \n",
    "\n",
    "$$\n",
    "\\frac{Pr(A \\cap B)}{Pr(A)}\n",
    "$$\n",
    "\n",
    "So this means, if we cancel out the denominators, we're left with the same numerator."
   ]
  },
  {
   "cell_type": "markdown",
   "metadata": {},
   "source": [
    "$$\n",
    "\\begin{aligned}\n",
    "Pr(A) \\cdot \\frac{Pr(A \\cap B)}{Pr(A)} &= Pr(B) \\cdot \\frac{Pr(A \\cap B)}{Pr(B)} \\\\\n",
    "Pr(B|A) &= \\frac{Pr(B) \\cdot \\frac{Pr(A \\cap B)}{Pr(B)}}{Pr(A)} \\\\\n",
    "Pr(B|A) &= \\frac{Pr(B) \\cdot Pr(A|B)}{Pr(A)}\n",
    "\\end{aligned}\n",
    "$$\n",
    "\n",
    "What's remarkable about this formula is the implication that you can find the probability of $A$ if you can observe a few factors."
   ]
  },
  {
   "cell_type": "markdown",
   "metadata": {},
   "source": [
    "## Example"
   ]
  },
  {
   "cell_type": "markdown",
   "metadata": {},
   "source": [
    "Let's setup a simple example. Let's say there are two separate things can happen: A and B. They could be something like A is the chance of rain. B is the chance of me going to get tacos. Let's say there is a $40\\%$ chance of rain. If it rains, let's say my likelihood of getting tacos is $10\\%$. If it's sunny, let's say its $20\\%$.\n",
    "\n",
    "I think it's actually logically easier to set up an example and work backwards through it. \n",
    "\n",
    "### Setup"
   ]
  },
  {
   "cell_type": "code",
   "execution_count": 1,
   "metadata": {},
   "outputs": [],
   "source": [
    "import numpy as np\n",
    "import pandas as pd\n",
    "\n",
    "\n",
    "def game():\n",
    "    r1 = np.random.rand()\n",
    "    r2 = np.random.rand()\n",
    "    \n",
    "    prain = 0.40\n",
    "    ptaco_with_sun  = 0.2\n",
    "    ptaco_with_rain = 0.1\n",
    "    \n",
    "    if r1 < prain:\n",
    "        if r2 < ptaco_with_sun:\n",
    "            return \"A\", \"B\"\n",
    "        else:\n",
    "            return \"A\", \"!B\"\n",
    "    else:\n",
    "        if r2 < ptaco_with_rain:\n",
    "            return \"!A\", \"B\"\n",
    "        else:\n",
    "            return \"!A\", \"!B\"\n",
    "        \n",
    "\n",
    "# generate results\n",
    "n = 15000\n",
    "results = pd.DataFrame([game() for x in range(n)])\n",
    "\n",
    "# create results table\n",
    "xtab = pd.crosstab(index=results[0], columns=results[1])\n",
    "xtab.loc[:,'Total'] = xtab.sum(axis=1)\n",
    "xtab.loc['Total',:] = xtab.sum(axis=0)\n",
    "xtab.loc['Total','Total'] = n"
   ]
  },
  {
   "cell_type": "markdown",
   "metadata": {},
   "source": [
    "#### Cross-tab: #"
   ]
  },
  {
   "cell_type": "code",
   "execution_count": 2,
   "metadata": {},
   "outputs": [
    {
     "data": {
      "text/html": [
       "<div>\n",
       "<style scoped>\n",
       "    .dataframe tbody tr th:only-of-type {\n",
       "        vertical-align: middle;\n",
       "    }\n",
       "\n",
       "    .dataframe tbody tr th {\n",
       "        vertical-align: top;\n",
       "    }\n",
       "\n",
       "    .dataframe thead th {\n",
       "        text-align: right;\n",
       "    }\n",
       "</style>\n",
       "<table border=\"1\" class=\"dataframe\">\n",
       "  <thead>\n",
       "    <tr style=\"text-align: right;\">\n",
       "      <th>1</th>\n",
       "      <th>!B</th>\n",
       "      <th>B</th>\n",
       "      <th>Total</th>\n",
       "    </tr>\n",
       "    <tr>\n",
       "      <th>0</th>\n",
       "      <th></th>\n",
       "      <th></th>\n",
       "      <th></th>\n",
       "    </tr>\n",
       "  </thead>\n",
       "  <tbody>\n",
       "    <tr>\n",
       "      <th>!A</th>\n",
       "      <td>8006.0</td>\n",
       "      <td>872.0</td>\n",
       "      <td>8878.0</td>\n",
       "    </tr>\n",
       "    <tr>\n",
       "      <th>A</th>\n",
       "      <td>4946.0</td>\n",
       "      <td>1176.0</td>\n",
       "      <td>6122.0</td>\n",
       "    </tr>\n",
       "    <tr>\n",
       "      <th>Total</th>\n",
       "      <td>12952.0</td>\n",
       "      <td>2048.0</td>\n",
       "      <td>15000.0</td>\n",
       "    </tr>\n",
       "  </tbody>\n",
       "</table>\n",
       "</div>"
      ],
      "text/plain": [
       "1           !B       B    Total\n",
       "0                              \n",
       "!A      8006.0   872.0   8878.0\n",
       "A       4946.0  1176.0   6122.0\n",
       "Total  12952.0  2048.0  15000.0"
      ]
     },
     "execution_count": 2,
     "metadata": {},
     "output_type": "execute_result"
    }
   ],
   "source": [
    "xtab"
   ]
  },
  {
   "cell_type": "markdown",
   "metadata": {},
   "source": [
    "#### Cross-tab: %"
   ]
  },
  {
   "cell_type": "code",
   "execution_count": 3,
   "metadata": {},
   "outputs": [
    {
     "data": {
      "text/html": [
       "<div>\n",
       "<style scoped>\n",
       "    .dataframe tbody tr th:only-of-type {\n",
       "        vertical-align: middle;\n",
       "    }\n",
       "\n",
       "    .dataframe tbody tr th {\n",
       "        vertical-align: top;\n",
       "    }\n",
       "\n",
       "    .dataframe thead th {\n",
       "        text-align: right;\n",
       "    }\n",
       "</style>\n",
       "<table border=\"1\" class=\"dataframe\">\n",
       "  <thead>\n",
       "    <tr style=\"text-align: right;\">\n",
       "      <th>1</th>\n",
       "      <th>!B</th>\n",
       "      <th>B</th>\n",
       "      <th>Total</th>\n",
       "    </tr>\n",
       "    <tr>\n",
       "      <th>0</th>\n",
       "      <th></th>\n",
       "      <th></th>\n",
       "      <th></th>\n",
       "    </tr>\n",
       "  </thead>\n",
       "  <tbody>\n",
       "    <tr>\n",
       "      <th>!A</th>\n",
       "      <td>0.533733</td>\n",
       "      <td>0.058133</td>\n",
       "      <td>0.591867</td>\n",
       "    </tr>\n",
       "    <tr>\n",
       "      <th>A</th>\n",
       "      <td>0.329733</td>\n",
       "      <td>0.078400</td>\n",
       "      <td>0.408133</td>\n",
       "    </tr>\n",
       "    <tr>\n",
       "      <th>Total</th>\n",
       "      <td>0.863467</td>\n",
       "      <td>0.136533</td>\n",
       "      <td>1.000000</td>\n",
       "    </tr>\n",
       "  </tbody>\n",
       "</table>\n",
       "</div>"
      ],
      "text/plain": [
       "1            !B         B     Total\n",
       "0                                  \n",
       "!A     0.533733  0.058133  0.591867\n",
       "A      0.329733  0.078400  0.408133\n",
       "Total  0.863467  0.136533  1.000000"
      ]
     },
     "execution_count": 3,
     "metadata": {},
     "output_type": "execute_result"
    }
   ],
   "source": [
    "xtab / n"
   ]
  },
  {
   "cell_type": "markdown",
   "metadata": {},
   "source": [
    "Now, let's go thorugh the definitions, both using #s and probabilities.\n",
    "\n",
    "#### Law of Complements"
   ]
  },
  {
   "cell_type": "code",
   "execution_count": 4,
   "metadata": {},
   "outputs": [
    {
     "name": "stdout",
     "output_type": "stream",
     "text": [
      "# !A:\t\t 8878.0\n",
      "# 10,000 - A:\t 8878.0\n",
      "% !A:\t\t 0.5918666666666667\n",
      "% 10,000 - A:\t 0.5918666666666667\n"
     ]
    }
   ],
   "source": [
    "print(\"# !A:\\t\\t\", xtab.loc[\"!A\",\"Total\"]) \n",
    "print(\"# 10,000 - A:\\t\", xtab.loc[\"Total\",\"Total\"] - xtab.loc[\"A\",\"Total\"])\n",
    "print(\"% !A:\\t\\t\", xtab.loc[\"!A\",\"Total\"] / n) \n",
    "print(\"% 10,000 - A:\\t\", (xtab.loc[\"Total\",\"Total\"] - xtab.loc[\"A\",\"Total\"]) / n)"
   ]
  },
  {
   "cell_type": "markdown",
   "metadata": {},
   "source": [
    "#### Addition Rule\n",
    "\n",
    "$Pr\\{A \\cup B\\} = Pr\\{A\\} + Pr\\{B\\} - Pr\\{A \\cap B \\}$"
   ]
  },
  {
   "cell_type": "code",
   "execution_count": 5,
   "metadata": {},
   "outputs": [
    {
     "name": "stdout",
     "output_type": "stream",
     "text": [
      "#:\t6122.0 + 2048.0 - 1176.0 = 6994.0\n",
      "#:\t0.40813333333333335 + 0.13653333333333334 - 0.0784 = 0.46626666666666666\n"
     ]
    }
   ],
   "source": [
    "aorb = xtab.loc[\"A\",\"Total\"] + xtab.loc[\"Total\",\"B\"] - xtab.loc[\"A\",\"B\"]\n",
    "\n",
    "print(f'#:\\t{xtab.loc[\"A\",\"Total\"]} + {xtab.loc[\"Total\",\"B\"]} - {xtab.loc[\"A\",\"B\"]} = {aorb}')\n",
    "print(f'#:\\t{xtab.loc[\"A\",\"Total\"]/n} + {xtab.loc[\"Total\",\"B\"]/n} - {xtab.loc[\"A\",\"B\"]/n} = {aorb/n}')"
   ]
  },
  {
   "cell_type": "markdown",
   "metadata": {},
   "source": [
    "#### Conditional Rule\n",
    "\n",
    "$Pr\\{A|B\\} = \\frac{Pr\\{A \\cap B\\}} {Pr\\{B\\}}$"
   ]
  },
  {
   "cell_type": "code",
   "execution_count": 6,
   "metadata": {},
   "outputs": [
    {
     "name": "stdout",
     "output_type": "stream",
     "text": [
      "#:\t0.57421875\n",
      "%:\t0.57421875\n"
     ]
    }
   ],
   "source": [
    "agivenb = xtab.loc[\"A\",\"B\"] / xtab.loc[\"Total\",\"B\"]\n",
    "agivenb_pct = xtab.loc[\"A\",\"B\"] / n / xtab.loc[\"Total\",\"B\"] / n\n",
    "\n",
    "print(f'#:\\t{agivenb}')\n",
    "print(f'%:\\t{agivenb}')"
   ]
  },
  {
   "cell_type": "markdown",
   "metadata": {},
   "source": [
    "Now, we see with the conditional rule, these measurements are standardized. That means, we can entirely compare raw #s and %s."
   ]
  },
  {
   "cell_type": "markdown",
   "metadata": {},
   "source": [
    "#### Product Rule\n",
    "\n",
    "$Pr\\{A \\cap B\\} = Pr\\{A\\}Pr\\{B|A\\} = Pr\\{B\\}Pr\\{A|B\\}$"
   ]
  },
  {
   "cell_type": "code",
   "execution_count": 7,
   "metadata": {},
   "outputs": [
    {
     "name": "stdout",
     "output_type": "stream",
     "text": [
      "Pr(A|B) = 0.0784\n",
      "Pr(B|A) = 0.0784\n"
     ]
    }
   ],
   "source": [
    "agivenb = xtab.loc[\"A\",\"B\"] / xtab.loc[\"Total\",\"B\"]\n",
    "bgivena = xtab.loc[\"A\",\"B\"] / xtab.loc[\"A\",\"Total\"]\n",
    "\n",
    "pr_agivenb = xtab.loc[\"Total\",\"B\"] / n * agivenb\n",
    "pr_bgivena = xtab.loc[\"A\",\"Total\"] / n * bgivena\n",
    "\n",
    "print(f'Pr(A|B) = {pr_agivenb}')\n",
    "print(f'Pr(B|A) = {pr_bgivena}')"
   ]
  }
 ],
 "metadata": {
  "kernelspec": {
   "display_name": "Python 3",
   "language": "python",
   "name": "python3"
  },
  "language_info": {
   "codemirror_mode": {
    "name": "ipython",
    "version": 3
   },
   "file_extension": ".py",
   "mimetype": "text/x-python",
   "name": "python",
   "nbconvert_exporter": "python",
   "pygments_lexer": "ipython3",
   "version": "3.7.3"
  }
 },
 "nbformat": 4,
 "nbformat_minor": 2
}
