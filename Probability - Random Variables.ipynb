{
 "cells": [
  {
   "cell_type": "markdown",
   "metadata": {},
   "source": [
    "# Random Variables\n",
    "## Intuition\n",
    "The intuition behind a random variable is that there is an uncertain value that's known after an experiment is finished. Random variables contain some sort of mathematical function which generates the values, which is called a probability distribution.\n",
    "\n",
    "## Explanation\n",
    "Probability sums to one.\n",
    "\n",
    "$$\n",
    "\\sum_xPr\\{X=x\\}=1\n",
    "$$\n",
    "\n",
    "Expected value\n",
    "\n",
    "$$\n",
    "\\sum_x xPr\\{X=x\\}=1\n",
    "$$\n",
    "\n",
    "If continuous\n",
    "$$\n",
    "\\int^\\infty_{-\\infty}xPr\\{X=x\\}dx = 1\n",
    "$$\n",
    "\n",
    "\n",
    "## Example"
   ]
  },
  {
   "cell_type": "code",
   "execution_count": 16,
   "metadata": {},
   "outputs": [
    {
     "name": "stdout",
     "output_type": "stream",
     "text": [
      "Results:\n",
      "   value  count     pct\n",
      "0     16     13  0.0013\n",
      "1     17    226  0.0226\n",
      "2     18   1301  0.1301\n",
      "3     19   3411  0.3411\n",
      "4     20   3454  0.3454\n",
      "5     21   1386  0.1386\n",
      "6     22    192  0.0192\n",
      "7     23     17  0.0017\n",
      "\n",
      "Total:\n",
      "   value    count  pct\n",
      "0  156.0  10000.0  1.0\n"
     ]
    }
   ],
   "source": [
    "import matplotlib.pyplot as plt\n",
    "import numpy as np\n",
    "import pandas as pd\n",
    "\n",
    "results = [int(np.random.randn() * 1 + 20) for x in range(10000)]\n",
    "results_df = pd.DataFrame(np.unique(results, return_counts=True), index=['value', 'count']).T\n",
    "results_df['pct'] = results_df['count'] / results_df['count'].sum()\n",
    "\n",
    "print(\"Results:\")\n",
    "print(results_df)\n",
    "print(\"\\nTotal:\")\n",
    "print(results_df.apply(sum).to_frame().T)"
   ]
  }
 ],
 "metadata": {
  "kernelspec": {
   "display_name": "Python 3",
   "language": "python",
   "name": "python3"
  },
  "language_info": {
   "codemirror_mode": {
    "name": "ipython",
    "version": 3
   },
   "file_extension": ".py",
   "mimetype": "text/x-python",
   "name": "python",
   "nbconvert_exporter": "python",
   "pygments_lexer": "ipython3",
   "version": "3.7.3"
  }
 },
 "nbformat": 4,
 "nbformat_minor": 2
}
