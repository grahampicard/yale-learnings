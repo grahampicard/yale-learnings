{
 "cells": [
  {
   "cell_type": "markdown",
   "metadata": {},
   "source": [
    "# Difference in Differences\n",
    "## Intuition\n",
    "Differences-in-differences follow a simple pattern. They compare the before and after for groups that have treatments and those that do not have treatments.\n",
    "\n",
    "Let's assume that we want to estimate the effect of a minimum wage law. We'd want to look at the before and after and take the difference to see if the difference is statistically significant. The key assumption in difference in difference is parallel trends. That is, without the treatment, things would have trended in the same direction.\n",
    "\n",
    "What's unique about these approaches isn't the effect that they're trying to identify. What's unique is that they structure the effect in such a way that **we can add additional factors to try to explain away time-variant differences.**\n",
    "\n",
    "## Explanation\n",
    "\n",
    "|               | Treatment |       |\n",
    "| ------------- |:---------:|:-----:|\n",
    "| Before (Pre)  | $T_B$     | $C_B$ |\n",
    "| After (Post)  | $T_A$     | $C_A$ |\n",
    "\n",
    "We can represent this table to find the difference by rewriting the equation as follows:\n",
    "\n",
    "$$\n",
    "(T_A - T_B) - (C_A - C_B)\n",
    "$$\n",
    "\n",
    "Or, we can represent it through a regression:\n",
    "\n",
    "### Regression form\n",
    "$$\n",
    "y = \\beta_0 + \\beta_1 TRT + \\beta_2 POST + \\beta_3 TRT \\cdot POST + \\epsilon\n",
    "$$\n",
    "\n",
    "The advantage to a regression is we can add additional covariates."
   ]
  },
  {
   "cell_type": "markdown",
   "metadata": {},
   "source": [
    "## Example"
   ]
  },
  {
   "cell_type": "code",
   "execution_count": 1,
   "metadata": {},
   "outputs": [],
   "source": [
    "import numpy as np\n",
    "import pandas as pd\n",
    "import statsmodels.api as sm"
   ]
  },
  {
   "cell_type": "markdown",
   "metadata": {},
   "source": [
    "Let's take a simple example where we want to recreate the wage study from New Jersey"
   ]
  },
  {
   "cell_type": "code",
   "execution_count": 2,
   "metadata": {},
   "outputs": [],
   "source": [
    "def gen_employees(n=1000, min_employees=4, std=2, effect=2):\n",
    "\n",
    "    # generate N restaurants which have minimum wage employees\n",
    "    X = np.random.randn(n) * 10 + 20\n",
    "    X = X.round()\n",
    "    X[np.where(X < min_employees)] = min_employees\n",
    "    \n",
    "    # create a pre and post group\n",
    "    pre = X\n",
    "    post = X + (np.random.randn(1000) * std).round() + effect\n",
    "    return pre, post\n",
    "\n",
    "\n",
    "\n",
    "# create pre/post data for both states\n",
    "np.random.seed(123)\n",
    "nj_pre, nj_post = gen_employees(std=2, effect=0.6)\n",
    "pa_pre, pa_post = gen_employees(std=3, effect=-2.16)\n",
    "\n",
    "# create a dataframe with all results\n",
    "df = pd.concat([pd.DataFrame(nj_pre,  columns=[\"val\"]).assign(post=0, trt=1),\n",
    "                pd.DataFrame(nj_post, columns=[\"val\"]).assign(post=1, trt=1),\n",
    "                pd.DataFrame(pa_pre,  columns=[\"val\"]).assign(post=0, trt=0),\n",
    "                pd.DataFrame(pa_post, columns=[\"val\"]).assign(post=1, trt=0)])\n",
    "\n",
    "df['trt*post'] = df.post * df.trt\n",
    "df['const'] = 1"
   ]
  },
  {
   "cell_type": "markdown",
   "metadata": {},
   "source": [
    "Now let's look at a simple cross-tab"
   ]
  },
  {
   "cell_type": "code",
   "execution_count": 3,
   "metadata": {
    "scrolled": true
   },
   "outputs": [
    {
     "name": "stdout",
     "output_type": "stream",
     "text": [
      "==============================================================================\n",
      "Cross-tab of average value by Treatment and Post\n",
      "\n",
      "                PA      NJ\n",
      "Before      20.301  19.875\n",
      "After       18.343  20.497\n",
      "Difference  -1.958   0.622\n",
      "==============================================================================\n"
     ]
    }
   ],
   "source": [
    "cross_tab = df.groupby(['trt', 'post']).mean()[['val']].unstack()\n",
    "cross_tab['diff'] = cross_tab[('val', 1)] - cross_tab[('val', 0)]\n",
    "cross_tab.columns = ['Before', 'After', 'Difference']\n",
    "cross_tab.index = 'PA', 'NJ'\n",
    "\n",
    "print(\"=\" * 78)\n",
    "print(\"Cross-tab of average value by Treatment and Post\\n\")\n",
    "print(cross_tab.T)\n",
    "print(\"=\" * 78)"
   ]
  },
  {
   "cell_type": "markdown",
   "metadata": {},
   "source": [
    "Now, let's run a difference in differences regression to show that it's at least equivalent to the difference in difference"
   ]
  },
  {
   "cell_type": "code",
   "execution_count": 5,
   "metadata": {},
   "outputs": [],
   "source": [
    "Xvars = ['const', 'trt', 'post', 'trt*post']\n",
    "X = df[Xvars].to_numpy()\n",
    "y  = df.val.to_numpy()\n",
    "\n",
    "# Total sum of squares\n",
    "ybar = np.mean(y)\n",
    "ydist = y - ybar\n",
    "\n",
    "# Estimates\n",
    "betas = np.linalg.inv(X.T @ X) @ X.T @ y\n",
    "yhat = X @ betas\n",
    "\n",
    "# Errors\n",
    "residuals = y - yhat\n",
    "tss = ydist.T @ ydist\n",
    "rss = residuals.T @ residuals\n",
    "se_beta = (rss / (X.shape[0] - X.shape[1]) * np.linalg.inv(X.T @ X).diagonal()) ** .5\n",
    "rsquared = 1 - rss / tss\n",
    "\n",
    "# Results\n",
    "summary_beta = pd.DataFrame([betas, se_beta],\n",
    "                            columns=['const', 'trt', 'post', 'trt*post'],\n",
    "                            index=['coef', 'std err']).T\n",
    "\n",
    "summary_beta['t'] = summary_beta['coef'] / summary_beta['std err']"
   ]
  },
  {
   "cell_type": "markdown",
   "metadata": {},
   "source": [
    "Let's look at the results"
   ]
  },
  {
   "cell_type": "code",
   "execution_count": 6,
   "metadata": {},
   "outputs": [
    {
     "name": "stdout",
     "output_type": "stream",
     "text": [
      "==============================================================================\n",
      "R2:\t 0.0077\n",
      "==============================================================================\n",
      "\n",
      "==============================================================================\n",
      "Beta Estimates:\n",
      "            coef   std err          t\n",
      "const     20.301  0.304098  66.758113\n",
      "trt       -0.426  0.430059  -0.990561\n",
      "post      -1.958  0.430059  -4.552860\n",
      "trt*post   2.580  0.608196   4.242055\n",
      "==============================================================================\n"
     ]
    }
   ],
   "source": [
    "# Summary\n",
    "print(\"=\"*78)\n",
    "print(\"R2:\\t\", round(rsquared, 4))\n",
    "print(\"=\"*78)\n",
    "print()\n",
    "print(\"=\"*78)\n",
    "print(\"Beta Estimates:\")\n",
    "print(summary_beta)\n",
    "print(\"=\"*78)"
   ]
  },
  {
   "cell_type": "markdown",
   "metadata": {},
   "source": [
    "Now, let's interpret what these variables mean.\n",
    "\n",
    "1. const: Control group before ($C_B$)\n",
    "2. trt: Fixed effects for treatment group ($C_A - \\bar{C}$)\n",
    "3. post: Contrl group marginal increase ($C_A - C_B$)\n",
    "4. trt\\*post: Effect of the treatment ($T_A - T_B) - (C_A - C_B)$\n",
    "\n",
    "What's **useful** is that we have a $t$-test on the difference the two groups. This means we can actually make statements on the significance of the difference.\n",
    "\n",
    "What's **interesting** is that the $R^2$ has little relevenace in this regression. In fact, it's so low, one might think that our regression doesn't have any validity. But let's think about what we're actually trying to understand. We're trying to understand - holding time and group constant. So essentially, we're seeing how much significance ones and zeroes have. It *should* be very low.\n",
    "\n",
    "What's **important** to remember is our $y$ variable is a randomly distributed variable and our $X$ matrix is simply four binary variables. In this example, $R^2$ isn't instructive at all. "
   ]
  }
 ],
 "metadata": {
  "kernelspec": {
   "display_name": "Python 3",
   "language": "python",
   "name": "python3"
  },
  "language_info": {
   "codemirror_mode": {
    "name": "ipython",
    "version": 3
   },
   "file_extension": ".py",
   "mimetype": "text/x-python",
   "name": "python",
   "nbconvert_exporter": "python",
   "pygments_lexer": "ipython3",
   "version": "3.7.3"
  }
 },
 "nbformat": 4,
 "nbformat_minor": 2
}
