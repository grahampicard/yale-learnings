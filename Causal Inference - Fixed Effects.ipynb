{
 "cells": [
  {
   "cell_type": "markdown",
   "metadata": {},
   "source": [
    "# Fixed Effects Regression\n"
   ]
  },
  {
   "cell_type": "markdown",
   "metadata": {},
   "source": [
    "## Intuition\n",
    "Fixed effects has a simple intuitive explanation. Let's imagine you're trying to compare basketball players. Some are taller than the others. We think that there might be some sort of general relationship with height and statistics so that the average player who is 6'8\" will have a fixed amount of rebounds they'll get more than a short player, who is 5'8\".\n",
    "\n",
    "We want to compare the two together, but we assume there is some sort of inherent difference between the players. In order to do this, we can just remove the average from our results. The key insight is that these effects **don't change** over time."
   ]
  },
  {
   "cell_type": "markdown",
   "metadata": {},
   "source": [
    "## Explanation 1: De-meaning\n",
    "\n",
    "Let's start with a linear regression \n",
    "\n",
    "$$\n",
    "y_{i,t} = X_{i,t}\\beta + \\alpha_i + u_{i,t}\n",
    "$$\n",
    "\n",
    "- $y$ is the dependent variable\n",
    "- $X_{i,t}$ is the time-variant $1 \\times k$ vector\n",
    "- $\\beta$ is the $k \\times 1$ matrix of parameters\n",
    "- $\\alpha_i$ is the unobserverd time-invariant individual effect\n",
    "- $u_{i,t}$ is the error term\n",
    "\n",
    "Now, for a fixed effects regression, we assume that the $\\alpha$ term is constant across time for all individuals. This means something like an advantage for being tall. Or specific characteristics related to somebody. If we want to remove the average effects, we can take out the mean from each variable, which will elimiate the fixed effect.\n",
    "\n",
    "$$\n",
    "y_{i,t} - \\bar{y}_i = (X_{i,t} - \\bar{X}_i)\\beta + (\\alpha_{i,t} - \\bar{\\alpha}_i) + (u_{i,t} - \\bar{u}_i)\n",
    "$$\n",
    "\n",
    "Let's think, of what happened.\n",
    "1. The \"fixed effect\" of $\\alpha$ has dropped out of the equation.\n",
    "2. The terms $u$ ,$X$, and $y$ have now been \"de-meaned,\" and only the non-fixed effects relationship remains\n",
    "\n",
    "$$\n",
    "\\ddot{y}_{i,t} = \\ddot{X}_{i,t}\\beta + \\ddot{u}_{i,t}\n",
    "$$\n",
    "\n",
    "## Explanation 2: Dummy Variables\n",
    "In this case, our estimates of beta are the same as our estimates if we were to use dummy variables. For instance,\n",
    "\n",
    "$$\n",
    "y_{i,t} = X_{i,t}\\beta + \\beta_i dummy_i + u_{i,t}\n",
    "$$\n",
    "\n",
    "is the same as our fixed effect regression. Why is this the case? It's because each of our dummy variables contains the *average* effects for each dummy variable. We can then get estimates of what each dummy effect is.\n",
    "\n",
    "Now, the difference between fixed effects regressions and dummy variable regressions are the standard errors of the $\\beta$ estimates.\n",
    "\n",
    "Also, a fixed effect regression will preserve the values of the constant term, and the $R^2$ term.\n",
    "\n",
    "## Analysis\n",
    "One of the *so-what* implications of dummy variables and fixed effects is that it highlights that linear regressions are really about averages. Our beta estimats show the average difference a variable has on our model."
   ]
  },
  {
   "cell_type": "markdown",
   "metadata": {},
   "source": [
    "## Example\n",
    "### Data Setup"
   ]
  },
  {
   "cell_type": "markdown",
   "metadata": {},
   "source": [
    "Let's try to understand the effect of a beer tax on a state's fatality rate. We can assume that the fatality rate is different for each state. We can thing of this as a *fixed effect*.\n",
    "\n",
    "$$\n",
    "\\textrm{Student Attrition}_{i,t} = \\beta \\times \\textrm{Counselors per School}_{i,t} + \\textrm{State FE} + u_{i,t}\n",
    "$$\n",
    "\n",
    "Let's start by creating random observational data, and we'll reconstruct our estimates. We'll create a random fatality rate, and a random beer tax rate. Our *true* functional form \n",
    "\n",
    "$$\n",
    "\\textrm{Student Attrition}_{i,t} = -0.06 \\times \\textrm{Counselors per School}_{i,t} + \\textrm{State FE} + u_{i,t}\n",
    "$$\n",
    "\n",
    "We can now generate our *true* data by creating our *fixed effects* and our tax effect. Let's say that this has to do with unobserved *fixed* attributes of each state (e.g. cultural norms about dropping out, state funding structure, community education levels, etc.), such that NY would be different from CA in predictable ways. \n",
    "\n",
    "We want to have one row represent fatalities by state/year. Let's make 10 years of data."
   ]
  },
  {
   "cell_type": "code",
   "execution_count": 1,
   "metadata": {},
   "outputs": [],
   "source": [
    "import numpy as np\n",
    "import pandas as pd\n",
    "\n",
    "# set random parameters\n",
    "np.random.seed(123)\n",
    "n = 15\n",
    "\n",
    "# lookup table for our \"fixed\" effects\n",
    "effects = {\n",
    "    'tx': 0.05,\n",
    "    'ca': 0.07,\n",
    "    'ny': -0.02,\n",
    "    'nj': 0.03,\n",
    "    'la': 0.10,\n",
    "    'al': 0.11,\n",
    "    'ms': 0.19,\n",
    "    'az': 0.02,\n",
    "    'me': -0.03,\n",
    "    'ak': 0.01,\n",
    "    'hi': -0.03\n",
    "}\n",
    "\n",
    "# create an iid variable  for our fatality_rand and tax\n",
    "states = np.concatenate([[x] * n for x in list(effects.keys())])\n",
    "ones = np.ones_like(states)\n",
    "counselors = np.random.randint(50, 150, size=len(states)) / 100 + .1\n",
    "effects = np.array([effects[x] for x in states])\n",
    "noise = np.random.randn(len(states)) / 30\n",
    "\n",
    "# let's create our linear model\n",
    "X_hidden = np.array([ones, counselors, effects, noise]).T.astype(float)\n",
    "B_hidden = np.array([0.09, -0.025, 0.4, 0.5])\n",
    "y = X_hidden @ B_hidden\n",
    "\n",
    "assert y.min() > 0"
   ]
  },
  {
   "cell_type": "markdown",
   "metadata": {},
   "source": [
    "We'll create a pandas dataframe that has all the data we can observe, that is:\n",
    "1. Student Attrition\n",
    "2. Avg. # of Counselors\n",
    "3. State"
   ]
  },
  {
   "cell_type": "code",
   "execution_count": 2,
   "metadata": {},
   "outputs": [],
   "source": [
    "# create observational dataset\n",
    "obs_df = pd.DataFrame(np.array([y, counselors]).T, columns=['student_attrition', 'counselors'])\n",
    "obs_df['state'] = states\n",
    "obs_df['const'] = 1"
   ]
  },
  {
   "cell_type": "markdown",
   "metadata": {},
   "source": [
    "### Exploration\n",
    "\n",
    "Let's first visualize our data"
   ]
  },
  {
   "cell_type": "code",
   "execution_count": 3,
   "metadata": {},
   "outputs": [
    {
     "data": {
      "image/png": "[encoded data removed]",
      "text/plain": [
       "<Figure size 720x360 with 1 Axes>"
      ]
     },
     "metadata": {
      "needs_background": "light"
     },
     "output_type": "display_data"
    }
   ],
   "source": [
    "%matplotlib inline\n",
    "import matplotlib.pyplot as plt\n",
    "\n",
    "fig, ax = plt.subplots(figsize=(10,5))\n",
    "\n",
    "for l, data in obs_df.groupby('state'):\n",
    "    ax.scatter(data.counselors, data.student_attrition, label=l)\n",
    "    ax.set_title('Student Attrition by Average # of Counselors')\n",
    "\n",
    "plt.legend()\n",
    "plt.show()"
   ]
  },
  {
   "cell_type": "markdown",
   "metadata": {},
   "source": [
    "We can see that there are differences in fatality rate. Some states tend to be higher, others lower. But in general, we can see basically no trend. If anything, it's *slightly negative*, but the variance in the data makes it hard for us to say definitively."
   ]
  },
  {
   "cell_type": "code",
   "execution_count": 4,
   "metadata": {},
   "outputs": [
    {
     "name": "stdout",
     "output_type": "stream",
     "text": [
      "Summary of Student Attrition by Average # of Counselors\n",
      "--------------------------------------------------\n",
      "\n",
      "       student_attrition  counselors\n",
      "state                               \n",
      "ak                  0.07        1.16\n",
      "al                  0.11        1.03\n",
      "az                  0.07        1.11\n",
      "ca                  0.08        1.22\n",
      "hi                  0.05        1.11\n",
      "la                  0.11        1.08\n",
      "me                  0.05        1.04\n",
      "ms                  0.14        1.04\n",
      "nj                  0.07        1.03\n",
      "ny                  0.05        1.21\n",
      "tx                  0.08        1.27\n"
     ]
    }
   ],
   "source": [
    "print(\"Summary of Student Attrition by Average # of Counselors\")\n",
    "print(\"-\" * 50)\n",
    "print()\n",
    "print(round(obs_df.groupby('state').mean()[['student_attrition', 'counselors']], 2))"
   ]
  },
  {
   "cell_type": "markdown",
   "metadata": {},
   "source": [
    "### Initial Approach: Simple OLS\n",
    "We might first want to understand what effect adding counsers has on the student attrition. While we can use the methods for linear regression which we've calculated earlier, let's instead use the `statsmodels` package to run our OLS regressions."
   ]
  },
  {
   "cell_type": "code",
   "execution_count": 5,
   "metadata": {},
   "outputs": [
    {
     "name": "stdout",
     "output_type": "stream",
     "text": [
      "                            OLS Regression Results                            \n",
      "==============================================================================\n",
      "Dep. Variable:      student_attrition   R-squared:                       0.073\n",
      "Model:                            OLS   Adj. R-squared:                  0.067\n",
      "Method:                 Least Squares   F-statistic:                     12.76\n",
      "Date:                Tue, 05 May 2020   Prob (F-statistic):           0.000466\n",
      "Time:                        15:17:55   Log-Likelihood:                 327.74\n",
      "No. Observations:                 165   AIC:                            -651.5\n",
      "Df Residuals:                     163   BIC:                            -645.3\n",
      "Df Model:                           1                                         \n",
      "Covariance Type:            nonrobust                                         \n",
      "==============================================================================\n",
      "                 coef    std err          t      P>|t|      [0.025      0.975]\n",
      "------------------------------------------------------------------------------\n",
      "const          0.1139      0.010     11.303      0.000       0.094       0.134\n",
      "counselors    -0.0311      0.009     -3.572      0.000      -0.048      -0.014\n",
      "==============================================================================\n",
      "Omnibus:                        4.883   Durbin-Watson:                   0.755\n",
      "Prob(Omnibus):                  0.087   Jarque-Bera (JB):                4.810\n",
      "Skew:                           0.376   Prob(JB):                       0.0903\n",
      "Kurtosis:                       2.634   Cond. No.                         7.70\n",
      "==============================================================================\n",
      "\n",
      "Warnings:\n",
      "[1] Standard Errors assume that the covariance matrix of the errors is correctly specified.\n"
     ]
    }
   ],
   "source": [
    "import statsmodels.api as sm\n",
    "\n",
    "y1 = obs_df['student_attrition']\n",
    "y2 = obs_df[['const', 'counselors']]\n",
    "\n",
    "first_reg = sm.OLS(y1, y2).fit()\n",
    "print(first_reg.summary())"
   ]
  },
  {
   "cell_type": "markdown",
   "metadata": {},
   "source": [
    "We can see that this approach over-estimates the effect of counselors. This is because the states have various fixed effects. However, it's worth noting that the estimates for counselors and our constant are directionally correct. The true value of tax (-0.025) lies within the confidence interval of tax, while the true value of our constant (0.09) is outside of our confidence interval. Let's see how our fixed effects regressions perform.\n",
    "\n",
    "###  Approach 2: Fixed Effects - De-meaned\n",
    "The intuitive way of understanding fixed effects is *de-meaning* the group data. This means, grouping data by each state, taking the average of each value, and subtracting that value from our data."
   ]
  },
  {
   "cell_type": "code",
   "execution_count": 6,
   "metadata": {
    "scrolled": false
   },
   "outputs": [
    {
     "name": "stdout",
     "output_type": "stream",
     "text": [
      "                            OLS Regression Results                            \n",
      "==============================================================================\n",
      "Dep. Variable:      student_attrition   R-squared:                       0.135\n",
      "Model:                            OLS   Adj. R-squared:                  0.130\n",
      "Method:                 Least Squares   F-statistic:                     25.51\n",
      "Date:                Tue, 05 May 2020   Prob (F-statistic):           1.17e-06\n",
      "Time:                        15:17:55   Log-Likelihood:                 424.96\n",
      "No. Observations:                 165   AIC:                            -845.9\n",
      "Df Residuals:                     163   BIC:                            -839.7\n",
      "Df Model:                           1                                         \n",
      "Covariance Type:            nonrobust                                         \n",
      "==============================================================================\n",
      "                 coef    std err          t      P>|t|      [0.025      0.975]\n",
      "------------------------------------------------------------------------------\n",
      "counselors    -0.0253      0.005     -5.050      0.000      -0.035      -0.015\n",
      "const       1.301e-18      0.001   9.02e-16      1.000      -0.003       0.003\n",
      "==============================================================================\n",
      "Omnibus:                        2.240   Durbin-Watson:                   2.206\n",
      "Prob(Omnibus):                  0.326   Jarque-Bera (JB):                2.221\n",
      "Skew:                          -0.226   Prob(JB):                        0.329\n",
      "Kurtosis:                       2.656   Cond. No.                         3.48\n",
      "==============================================================================\n",
      "\n",
      "Warnings:\n",
      "[1] Standard Errors assume that the covariance matrix of the errors is correctly specified.\n"
     ]
    }
   ],
   "source": [
    "# de-mean the data\n",
    "demeaned = (obs_df.groupby('state')\n",
    "                  [['student_attrition', 'counselors']]\n",
    "                  .apply(lambda x: x - x.mean()))\n",
    "\n",
    "# run our regression\n",
    "y2 = demeaned[['student_attrition']]\n",
    "x2 = demeaned[['counselors']]\n",
    "x2['const'] = 1\n",
    "reg2 = sm.OLS(y2, x2).fit()\n",
    "\n",
    "print(reg2.summary())"
   ]
  },
  {
   "cell_type": "markdown",
   "metadata": {},
   "source": [
    "We can see that we have recovered the true coefficient for *tax*. However, we have no estimate for our constant. This is because our demeaning process "
   ]
  },
  {
   "cell_type": "markdown",
   "metadata": {},
   "source": [
    "### Approach 3: Fixed Effects - Dummies"
   ]
  },
  {
   "cell_type": "code",
   "execution_count": 7,
   "metadata": {
    "scrolled": false
   },
   "outputs": [
    {
     "name": "stdout",
     "output_type": "stream",
     "text": [
      "                            OLS Regression Results                            \n",
      "==============================================================================\n",
      "Dep. Variable:      student_attrition   R-squared:                       0.715\n",
      "Model:                            OLS   Adj. R-squared:                  0.694\n",
      "Method:                 Least Squares   F-statistic:                     34.83\n",
      "Date:                Tue, 05 May 2020   Prob (F-statistic):           3.33e-36\n",
      "Time:                        15:17:55   Log-Likelihood:                 424.96\n",
      "No. Observations:                 165   AIC:                            -825.9\n",
      "Df Residuals:                     153   BIC:                            -788.7\n",
      "Df Model:                          11                                         \n",
      "Covariance Type:            nonrobust                                         \n",
      "==============================================================================\n",
      "                 coef    std err          t      P>|t|      [0.025      0.975]\n",
      "------------------------------------------------------------------------------\n",
      "const          0.0985      0.005     17.959      0.000       0.088       0.109\n",
      "counselors    -0.0253      0.005     -4.893      0.000      -0.036      -0.015\n",
      "ak            -0.0031      0.005     -0.643      0.521      -0.012       0.006\n",
      "al             0.0351      0.005      7.446      0.000       0.026       0.044\n",
      "az            -0.0050      0.005     -1.056      0.293      -0.014       0.004\n",
      "ca             0.0167      0.005      3.458      0.001       0.007       0.026\n",
      "hi            -0.0221      0.005     -4.671      0.000      -0.031      -0.013\n",
      "la             0.0362      0.005      7.674      0.000       0.027       0.046\n",
      "me            -0.0213      0.005     -4.524      0.000      -0.031      -0.012\n",
      "ms             0.0696      0.005     14.769      0.000       0.060       0.079\n",
      "nj            -0.0039      0.005     -0.835      0.405      -0.013       0.005\n",
      "ny            -0.0198      0.005     -4.127      0.000      -0.029      -0.010\n",
      "tx             0.0162      0.005      3.317      0.001       0.007       0.026\n",
      "==============================================================================\n",
      "Omnibus:                        2.240   Durbin-Watson:                   2.206\n",
      "Prob(Omnibus):                  0.326   Jarque-Bera (JB):                2.221\n",
      "Skew:                          -0.226   Prob(JB):                        0.329\n",
      "Kurtosis:                       2.656   Cond. No.                     1.72e+16\n",
      "==============================================================================\n",
      "\n",
      "Warnings:\n",
      "[1] Standard Errors assume that the covariance matrix of the errors is correctly specified.\n",
      "[2] The smallest eigenvalue is 1.34e-30. This might indicate that there are\n",
      "strong multicollinearity problems or that the design matrix is singular.\n"
     ]
    }
   ],
   "source": [
    "# run our regression\n",
    "y3 = obs_df.student_attrition\n",
    "x3 = pd.concat([obs_df[['const', 'counselors']], pd.get_dummies(obs_df.state)], sort=True, axis=1)\n",
    "reg3 = sm.OLS(y3, x3).fit()\n",
    "\n",
    "print(reg3.summary())"
   ]
  },
  {
   "cell_type": "markdown",
   "metadata": {},
   "source": [
    "We see that adding dummy variables in our regression allow us to interpret the constant and tax correctly. Also, we have more accurate standard errors from our estimates. We can see that either demeaning or controlling for factors allows us to make better interpretations.\n",
    "\n",
    "It might be tempting to look at the $R^2$ of this model and generally assume that it's better, so we can trust the coefficients more. But in reality, it doesn't tell us anything about coefficient significance. So in our case, we get the same estimate from de-meaning as including dummy variables. We should keep this in mind when understanding what aggregate effect dummy variables may have."
   ]
  }
 ],
 "metadata": {
  "kernelspec": {
   "display_name": "Python 3",
   "language": "python",
   "name": "python3"
  },
  "language_info": {
   "codemirror_mode": {
    "name": "ipython",
    "version": 3
   },
   "file_extension": ".py",
   "mimetype": "text/x-python",
   "name": "python",
   "nbconvert_exporter": "python",
   "pygments_lexer": "ipython3",
   "version": "3.7.3"
  }
 },
 "nbformat": 4,
 "nbformat_minor": 2
}
